{
 "cells": [
  {
   "cell_type": "markdown",
   "metadata": {},
   "source": [
    "# Questions\n",
    "1. WAP to count the number of objects created\n",
    "2. Write a program that has a class Student storing student information including DOB. The program should subtract DOB from present date to find out whether you are eligible to cast vote or not.\n",
    "3. WAP to enter a number, find the factorial of a number, check, whether the number is prime or not, find the square of that number, through object and class concept\n",
    "4. WAP a WAP that has a class circle. Use class variable to define the values of constant PI. Use class variable to calculate area and circumference with specified radius.\n",
    "5. WAP that has a class Student that stores roll number, name, and marks (in three subjects). Display information roll number, total marks stored about a student.\n",
    "6. Write a class rectangle that has attribute length, Breadth and a method area which returns area of the rectangle.\n",
    "7. WAP to enter sides of different geometric figure, find the area of any 5 geometric figure\n",
    "8. WAP to program to calculate simple interest and compound interest with appreciate input given to the program e.g p, r, t input.\n",
    "9. WAP to enter the recipes ordered by the customer, in a restaurant, prepare the bill in a proper format.\n",
    "10. Write a menu driven program that keeps records of books and journal available in a library.\n",
    "11. Write a program that uses a class attributes to define some defaults titles in a college. Dis[lay the name along with title and department of the college.\n",
    "12. Write a menu driven program to read, add, subtract, multiply, divide and transpose two matrices."
   ]
  },
  {
   "cell_type": "markdown",
   "metadata": {},
   "source": [
    "# Answers\n",
    "Dipankar Das\n",
    "20051554"
   ]
  },
  {
   "cell_type": "markdown",
   "metadata": {},
   "source": [
    "## WAP to count the number of objects created"
   ]
  },
  {
   "cell_type": "code",
   "execution_count": 3,
   "metadata": {},
   "outputs": [
    {
     "name": "stdout",
     "output_type": "stream",
     "text": [
      "2\n"
     ]
    }
   ],
   "source": [
    "class Q1:\n",
    "  counter = 0\n",
    "  def __init__(self):\n",
    "    Q1.counter += 1\n",
    "  \n",
    "o1 = Q1()\n",
    "o2 = Q1()\n",
    "print(Q1.counter)"
   ]
  },
  {
   "cell_type": "markdown",
   "metadata": {},
   "source": [
    "## Write a program that has a class Student storing student information including DOB. The program should subtract DOB from present date to find out whether you are eligible to cast vote or not."
   ]
  },
  {
   "cell_type": "code",
   "execution_count": 21,
   "metadata": {},
   "outputs": [
    {
     "name": "stdout",
     "output_type": "stream",
     "text": [
      "Name: dipankar\n",
      "Roll: 20051554\n",
      "DOB: 21.353424657534248\n"
     ]
    }
   ],
   "source": [
    "from datetime import date\n",
    "\n",
    "class Student:\n",
    "  def __init__(self):\n",
    "    self.name = input(\"Enter the student name\")\n",
    "    self.roll = int(input(\"enter the roll number\"))\n",
    "    self.yy = int(input(\"enter DOB year\"))\n",
    "    self.mm = int(input(\"enter DOB month\"))\n",
    "    self.dd = int(input(\"enter DOB day\"))\n",
    "    # print(datetime.today().year)\n",
    "  def getInfo(self):\n",
    "    print(f\"Name: %s\" % self.name)\n",
    "    print(f\"Roll: %d\" % self.roll)\n",
    "    currDate = date.today()\n",
    "    dob = date(self.yy, self.mm, self.dd)\n",
    "    ageSec = (currDate - dob).total_seconds()\n",
    "    age = ageSec / (60 * 60 * 24 * 365)\n",
    "    print(f\"Age: %s\" % age)\n",
    "\n",
    "a = Student()\n",
    "a.getInfo()"
   ]
  },
  {
   "cell_type": "markdown",
   "metadata": {},
   "source": [
    "## WAP to enter a number, find the factorial of a number, check, whether the number is prime or not, find the square of that number, through object and class concept"
   ]
  },
  {
   "cell_type": "code",
   "execution_count": 24,
   "metadata": {},
   "outputs": [
    {
     "name": "stdout",
     "output_type": "stream",
     "text": [
      "Factorial: 120\n",
      "Prime: True\n",
      "Square: 25\n"
     ]
    }
   ],
   "source": [
    "class Q3:\n",
    "  def __init__(self, n: int):\n",
    "    self.number = n\n",
    "  def __findFactorial(self)-> int:\n",
    "    fact = 1\n",
    "    n = self.number\n",
    "    while n > 1:\n",
    "      fact *= n\n",
    "      n -= 1\n",
    "    return fact\n",
    "  def __findPrime(self)-> bool:\n",
    "    for i in range(2, self.number):\n",
    "      if self.number % i == 0:\n",
    "        return False\n",
    "    return True\n",
    "  \n",
    "  def __getSquare(self)-> float:\n",
    "    return self.number * self.number\n",
    "  \n",
    "  def getResults(self):\n",
    "    print(f\"Factorial: {Q3.__findFactorial(self)}\")\n",
    "    print(f\"Prime: {Q3.__findPrime(self)}\")\n",
    "    print(f\"Square: {Q3.__getSquare(self)}\")\n",
    "\n",
    "o = Q3(5)\n",
    "o.getResults()\n"
   ]
  },
  {
   "cell_type": "markdown",
   "metadata": {},
   "source": [
    "## WAP that has a class circle. Use class variable to define the values of constant PI. Use class variable to calculate area and circumference with specified radius."
   ]
  },
  {
   "cell_type": "code",
   "execution_count": 25,
   "metadata": {},
   "outputs": [
    {
     "name": "stdout",
     "output_type": "stream",
     "text": [
      "Area: 12.5892\n",
      "Circumference: 25.1784\n"
     ]
    }
   ],
   "source": [
    "class Circle:\n",
    "  PI = 3.1473\n",
    "  def __init__(self, radius: float):\n",
    "    self.radius = radius\n",
    "  def area(self)-> float:\n",
    "    return Circle.PI * pow(self.radius, 2)\n",
    "  def circumference(self)-> float:\n",
    "    return 2.0 * Circle.PI * pow(self.radius, 2)\n",
    "  \n",
    "cir = Circle(2)\n",
    "print(f\"Area: {cir.area()}\")\n",
    "print(f\"Circumference: {cir.circumference()}\")"
   ]
  },
  {
   "cell_type": "markdown",
   "metadata": {},
   "source": [
    "## WAP that has a class Student that stores roll number, name, and marks (in three subjects). Display information roll number, total marks stored about a student."
   ]
  },
  {
   "cell_type": "code",
   "execution_count": 28,
   "metadata": {},
   "outputs": [
    {
     "name": "stdout",
     "output_type": "stream",
     "text": [
      "Name: dipankar\n",
      "Roll: 20051554\n",
      "marks: [40, 90, 100]\n",
      "total marks: 230\n"
     ]
    }
   ],
   "source": [
    "class Student:\n",
    "  def __init__(self):\n",
    "    self.name = input(\"Enter the student name\")\n",
    "    self.roll = int(input(\"enter the roll number\"))\n",
    "    self.marks = []\n",
    "    self.marks.append(int(input(\"Enter the marks for sub1\")))\n",
    "    self.marks.append(int(input(\"Enter the marks for sub2\")))\n",
    "    self.marks.append(int(input(\"Enter the marks for sub3\")))\n",
    "  def display(self):\n",
    "    print(f\"Name: {self.name}\")\n",
    "    print(f\"Roll: {self.roll}\")\n",
    "    print(f\"marks: {self.marks}\")\n",
    "    print(f\"total marks: {self.marks[0]+self.marks[1]+self.marks[2]}\")\n",
    "\n",
    "o = Student()\n",
    "o.display()"
   ]
  },
  {
   "cell_type": "markdown",
   "metadata": {},
   "source": [
    "## Write a class rectangle that has attribute length, Breadth and a method area which returns area of the rectangle."
   ]
  },
  {
   "cell_type": "code",
   "execution_count": 29,
   "metadata": {},
   "outputs": [
    {
     "name": "stdout",
     "output_type": "stream",
     "text": [
      "Area: 10\n"
     ]
    }
   ],
   "source": [
    "class Rectangle:\n",
    "  def __init__(self, l: float, b: float):\n",
    "    self.length = l\n",
    "    self.bredth = b\n",
    "  def area(self)-> float:\n",
    "    return self.length * self.bredth\n",
    "\n",
    "o = Rectangle(2,5)\n",
    "print(f\"Area: {o.area()}\")"
   ]
  },
  {
   "cell_type": "markdown",
   "metadata": {},
   "source": [
    "## WAP to enter sides of different geometric figure, find the area of any 5 geometric figure"
   ]
  },
  {
   "cell_type": "code",
   "execution_count": 30,
   "metadata": {},
   "outputs": [
    {
     "name": "stdout",
     "output_type": "stream",
     "text": [
      "Enter the sides of a triangle:\n",
      "The area of the triangle is 2.9047375096555625\n",
      "Enter the sides of a rectangle:\n",
      "The area of the rectangle is 30.0\n",
      "Enter the side of a square:\n",
      "The area of the square is 49.0\n",
      "Enter the radius of a circle:\n",
      "The area of the circle is 200.96\n",
      "Enter the sides of a trapezium:\n",
      "The area of the trapezium is 10.0\n"
     ]
    }
   ],
   "source": [
    "from math import sqrt\n",
    "\n",
    "class GeometricFigure:\n",
    "    def __init__(self, sides):\n",
    "        self.sides = sides\n",
    "    \n",
    "    # def area(self):\n",
    "    #     pass\n",
    "\n",
    "class Triangle(GeometricFigure):\n",
    "    def area(self):\n",
    "        a, b, c = self.sides\n",
    "        s = (a + b + c) / 2\n",
    "        return sqrt(s * (s - a) * (s - b) * (s - c))\n",
    "\n",
    "class Rectangle(GeometricFigure):\n",
    "    def area(self):\n",
    "        a, b = self.sides\n",
    "        return a * b\n",
    "\n",
    "class Square(GeometricFigure):\n",
    "    def area(self):\n",
    "        a = self.sides[0]\n",
    "        return a ** 2\n",
    "\n",
    "class Circle(GeometricFigure):\n",
    "    def area(self):\n",
    "        r = self.sides[0]\n",
    "        return 3.14 * r ** 2\n",
    "\n",
    "class Trapezium(GeometricFigure):\n",
    "    def area(self):\n",
    "        a, b, h = self.sides\n",
    "        return ((a + b) * h) / 2\n",
    "\n",
    "# Example usage\n",
    "print(\"Enter the sides of a triangle:\")\n",
    "a = float(input(\"a = \"))\n",
    "b = float(input(\"b = \"))\n",
    "c = float(input(\"c = \"))\n",
    "t = Triangle([a, b, c])\n",
    "print(f\"The area of the triangle is {t.area()}\")\n",
    "\n",
    "print(\"Enter the sides of a rectangle:\")\n",
    "a = float(input(\"a = \"))\n",
    "b = float(input(\"b = \"))\n",
    "r = Rectangle([a, b])\n",
    "print(f\"The area of the rectangle is {r.area()}\")\n",
    "\n",
    "print(\"Enter the side of a square:\")\n",
    "a = float(input(\"a = \"))\n",
    "s = Square([a])\n",
    "print(f\"The area of the square is {s.area()}\")\n",
    "\n",
    "print(\"Enter the radius of a circle:\")\n",
    "r = float(input(\"r = \"))\n",
    "c = Circle([r])\n",
    "print(f\"The area of the circle is {c.area()}\")\n",
    "\n",
    "print(\"Enter the sides of a trapezium:\")\n",
    "a = float(input(\"a = \"))\n",
    "b = float(input(\"b = \"))\n",
    "h = float(input(\"h = \"))\n",
    "tr = Trapezium([a, b, h])\n",
    "print(f\"The area of the trapezium is {tr.area()}\")\n"
   ]
  },
  {
   "cell_type": "markdown",
   "metadata": {},
   "source": [
    "## WAP to program to calculate simple interest and compound interest with appreciate input given to the program e.g p, r, t input."
   ]
  },
  {
   "cell_type": "code",
   "execution_count": 31,
   "metadata": {},
   "outputs": [
    {
     "name": "stdout",
     "output_type": "stream",
     "text": [
      "Simple Interest = 600.00\n",
      "Compound Interest = 618.00\n"
     ]
    }
   ],
   "source": [
    "def simple_interest(p, r, t):\n",
    "    return (p * r * t) / 100\n",
    "\n",
    "def compound_interest(p, r, t):\n",
    "    return p * ((1 + (r / 100)) ** t - 1)\n",
    "\n",
    "p = float(input(\"Enter the principal amount: \"))\n",
    "r = float(input(\"Enter the annual interest rate: \"))\n",
    "t = float(input(\"Enter the time period (in years): \"))\n",
    "\n",
    "si = simple_interest(p, r, t)\n",
    "ci = compound_interest(p, r, t)\n",
    "\n",
    "print(f\"Simple Interest = {si:.2f}\")\n",
    "print(f\"Compound Interest = {ci:.2f}\")\n"
   ]
  },
  {
   "cell_type": "markdown",
   "metadata": {},
   "source": [
    "## WAP to enter the recipes ordered by the customer, in a restaurant, prepare the bill in a proper format."
   ]
  },
  {
   "cell_type": "code",
   "execution_count": 48,
   "metadata": {},
   "outputs": [
    {
     "name": "stdout",
     "output_type": "stream",
     "text": [
      "Item\tPrice\n",
      "butter\t34\n",
      "sugar\t356\n",
      "chicken\t234\n",
      "Total bill: 624\n"
     ]
    }
   ],
   "source": [
    "class Hotel:\n",
    "  def __init__(self):\n",
    "    self.Items = []\n",
    "  def add(self, item: dict):\n",
    "    self.Items.append(item)\n",
    "  def print(self):\n",
    "    print(\"Item\\tPrice\")\n",
    "    amt = 0\n",
    "    for item in self.Items:\n",
    "      amt += item['price']\n",
    "      print(f\"{item['name']}\\t{item['price']}\")\n",
    "    print(f\"Total bill: {amt}\")\n",
    "o = Hotel()\n",
    "o.add({\"name\": \"butter\", \"price\": 34})\n",
    "o.add({\"name\": \"sugar\", \"price\": 356})\n",
    "o.add({\"name\": \"chicken\", \"price\": 234})\n",
    "o.print()"
   ]
  },
  {
   "cell_type": "markdown",
   "metadata": {},
   "source": [
    "## Write a menu driven program that keeps records of books and journal available in a library."
   ]
  },
  {
   "cell_type": "code",
   "execution_count": 59,
   "metadata": {},
   "outputs": [
    {
     "name": "stdout",
     "output_type": "stream",
     "text": [
      "Name: book1\n",
      "Author: auth1\n",
      "Description: sdcwcdwc\n",
      "Journal Publisher: N/A\n",
      "Name: jour1\n",
      "Author: 223dewe\n",
      "Description: ewce\n",
      "Journal Publisher: ewdc\n",
      "Name: edwdw\n",
      "Author: wdcswac\n",
      "Description: wadcc\n",
      "Journal Publisher: N/A\n"
     ]
    }
   ],
   "source": [
    "class Items:\n",
    "  def __init__(self, name: str=\"\", description: str=\"\", author: str=\"\", Journal: str=\"N/A\"):\n",
    "    self.name = name\n",
    "    self.description = description\n",
    "    self.author = author\n",
    "    self.journal_publisher = Journal\n",
    "\n",
    "class Library:\n",
    "  def __init__(self):\n",
    "    self.records: list[Items] = []\n",
    "  def addRecords(self, item: Items):\n",
    "    self.records.append(item)\n",
    "  def getAllRecords(self):\n",
    "    for item in self.records:\n",
    "      print(f\"Name: {item.name}\")\n",
    "      print(f\"Author: {item.author}\")\n",
    "      print(f\"Description: {item.description}\")\n",
    "      print(f\"Journal Publisher: {item.journal_publisher}\")\n",
    "\n",
    "if __name__ == \"__main__\":\n",
    "  libraryObject = Library()\n",
    "  while True:\n",
    "    choice = input(\"Enter the book or journal[b/j] and [n] for exit()\")\n",
    "    if choice == \"n\":\n",
    "      libraryObject.getAllRecords()\n",
    "      break\n",
    "    if choice != \"b\" and choice != \"j\":\n",
    "      print(\"Invalid choice\")\n",
    "      break\n",
    "    name = input(\"Enter the name of the book or journal\")\n",
    "    description = input(\"Enter the description of the book or journal\")\n",
    "    author = input(\"Enter the author of the book or journal\")\n",
    "    if choice == \"b\":\n",
    "      libraryObject.addRecords(Items(name, description, author))\n",
    "    else:\n",
    "      journal_publisher = input(\"Enter the publisher of the book or journal\")\n",
    "      libraryObject.addRecords(Items(name, description, author, journal_publisher))\n"
   ]
  },
  {
   "cell_type": "markdown",
   "metadata": {},
   "source": [
    "## Write a program that uses a class attributes to define some defaults titles in a college. Dis[lay the name along with title and department of the college."
   ]
  },
  {
   "cell_type": "code",
   "execution_count": 61,
   "metadata": {},
   "outputs": [
    {
     "name": "stdout",
     "output_type": "stream",
     "text": [
      "ABC1: Professor in CSE\n",
      "ABCD@: Associate Professor in Maths\n"
     ]
    }
   ],
   "source": [
    "class College:\n",
    "    # Default titles in the college\n",
    "    default_title = \"Professor\"\n",
    "    default_department = \"CSE\"\n",
    "    \n",
    "    def __init__(self, name):\n",
    "        self.name = name\n",
    "    \n",
    "    def display_info(self):\n",
    "        print(f\"{self.name}: {College.default_title} in {College.default_department}\")\n",
    "        \n",
    "        \n",
    "# Example usage\n",
    "c1 = College(\"ABC1\")\n",
    "c1.display_info()  # Output: John: Professor in Computer Science\n",
    "\n",
    "c2 = College(\"ABCD@\")\n",
    "College.default_title = \"Associate Professor\"\n",
    "College.default_department = \"Maths\"\n",
    "c2.display_info()  # Output: Sarah: Associate Professor in Mathematics\n"
   ]
  },
  {
   "cell_type": "markdown",
   "metadata": {},
   "source": [
    "## Write a menu driven program to read, add, subtract, multiply, divide and transpose two matrices."
   ]
  },
  {
   "cell_type": "code",
   "execution_count": 2,
   "metadata": {},
   "outputs": [
    {
     "name": "stdout",
     "output_type": "stream",
     "text": [
      "\n",
      "---MATRIX OPERATIONS MENU---\n",
      "1. Read two matrices\n",
      "2. Add two matrices\n",
      "3. Subtract two matrices\n",
      "4. Multiply two matrices\n",
      "5. Divide two matrices\n",
      "6. Transpose a matrix\n",
      "7. Exit\n",
      "Enter your choice (1-7): 1\n",
      "\n",
      "Enter the first matrix:\n",
      "Enter the number of rows: 2\n",
      "Enter the number of columns: 2\n",
      "Enter the elements of the matrix:\n",
      "1 2\n",
      "3 4\n",
      "\n",
      "Enter the second matrix:\n",
      "Enter the number of rows: 2\n",
      "Enter the number of columns: 2\n",
      "Enter the elements of the matrix:\n",
      "5 6\n",
      "7 8\n",
      "\n",
      "Matrix 1:\n",
      "[[1 2]\n",
      " [3 4]]\n",
      "\n",
      "Matrix 2:\n",
      "[[5 6]\n",
      " [7 8]]\n",
      "\n",
      "---MATRIX OPERATIONS MENU---\n",
      "1. Read two matrices\n",
      "2. Add two matrices\n",
      "3. Subtract two matrices\n",
      "4. Multiply two matrices\n",
      "5. Divide two matrices\n",
      "6. Transpose a matrix\n",
      "7. Exit\n",
      "Enter your choice (1-7): 2\n",
      "\n",
      "Result:\n",
      "[[ 6  8]\n",
      " [10 12]]\n",
      "\n",
      "---MATRIX OPERATIONS MENU---\n",
      "1. Read two matrices\n",
      "2. Add two matrices\n",
      "3. Subtract two matrices\n",
      "4. Multiply two matrices\n",
      "5. Divide two matrices\n",
      "6. Transpose a matrix\n",
      "7. Exit\n",
      "Enter your choice (1-7): 3\n",
      "\n",
      "Result:\n",
      "[[-4 -4]\n",
      " [-4 -4]]\n",
      "\n",
      "---MATRIX OPERATIONS MENU---\n",
      "1. Read two matrices\n",
      "2. Add two matrices\n",
      "3. Subtract two matrices\n",
      "4. Multiply two matrices\n",
      "5. Divide two matrices\n",
      "6. Transpose a matrix\n",
      "7. Exit\n",
      "Enter your choice (1-7): 4\n",
      "\n",
      "Result:\n",
      "[[19 22]\n",
      " [43 50]]\n",
      "\n",
      "---MATRIX OPERATIONS MENU---\n",
      "1. Read two matrices\n",
      "2. Add two matrices\n",
      "3. Subtract two matrices\n",
      "4. Multiply two matrices\n",
      "5. Divide two matrices\n",
      "6. Transpose a matrix\n",
      "7. Exit\n",
      "Enter your choice (1-7): 5\n",
      "\n",
      "Result:\n",
      "[[0.2        0.33333333]\n",
      " [0.42857143 0.5       ]]\n",
      "\n",
      "---MATRIX OPERATIONS MENU---\n",
      "1. Read two matrices\n",
      "2. Add two matrices\n",
      "3. Subtract two matrices\n",
      "4. Multiply two matrices\n",
      "5. Divide two matrices\n",
      "6. Transpose a matrix\n",
      "7. Exit\n",
      "Enter your choice (1-7): 6\n",
      "Enter the number of rows: 7\n",
      "Enter the number of columns: 3\n",
      "Enter the elements of the matrix:\n",
      "3 5 8\n",
      "4 5 67\n",
      "23 234 5\n",
      "23 4 4\n",
      "1 1 1\n",
      "0 0 0\n",
      "11 12 23\n",
      "\n",
      "Result:\n",
      "[[  3   4  23  23   1   0  11]\n",
      " [  5   5 234   4   1   0  12]\n",
      " [  8  67   5   4   1   0  23]]\n",
      "\n",
      "---MATRIX OPERATIONS MENU---\n",
      "1. Read two matrices\n",
      "2. Add two matrices\n",
      "3. Subtract two matrices\n",
      "4. Multiply two matrices\n",
      "5. Divide two matrices\n",
      "6. Transpose a matrix\n",
      "7. Exit\n",
      "Enter your choice (1-7): 7\n",
      "Exiting program...\n"
     ]
    }
   ],
   "source": [
    "import numpy as np\n",
    "\n",
    "def read_matrix():\n",
    "    rows = int(input(\"Enter the number of rows: \"))\n",
    "    cols = int(input(\"Enter the number of columns: \"))\n",
    "    print(\"Enter the elements of the matrix:\")\n",
    "    matrix = []\n",
    "    for i in range(rows):\n",
    "        row = list(map(int, input().split()))\n",
    "        if len(row) != cols:\n",
    "            print(\"Error: Invalid number of elements in row. Please try again.\")\n",
    "            return None\n",
    "        matrix.append(row)\n",
    "    return np.array(matrix)\n",
    "\n",
    "def add_matrices(m1, m2):\n",
    "    if m1.shape != m2.shape:\n",
    "        print(\"Error: Matrices must have the same shape.\")\n",
    "        return None\n",
    "    return m1 + m2\n",
    "\n",
    "def subtract_matrices(m1, m2):\n",
    "    if m1.shape != m2.shape:\n",
    "        print(\"Error: Matrices must have the same shape.\")\n",
    "        return None\n",
    "    return m1 - m2\n",
    "\n",
    "def multiply_matrices(m1, m2):\n",
    "    if m1.shape[1] != m2.shape[0]:\n",
    "        print(\"Error: Invalid matrix dimensions for multiplication.\")\n",
    "        return None\n",
    "    return np.matmul(m1, m2)\n",
    "\n",
    "def divide_matrices(m1, m2):\n",
    "    if m1.shape != m2.shape:\n",
    "        print(\"Error: Matrices must have the same shape.\")\n",
    "        return None\n",
    "    return m1 / m2\n",
    "\n",
    "def transpose_matrix(matrix):\n",
    "    return matrix.transpose()\n",
    "\n",
    "while True:\n",
    "    print(\"\\n---MATRIX OPERATIONS MENU---\")\n",
    "    print(\"1. Read two matrices\")\n",
    "    print(\"2. Add two matrices\")\n",
    "    print(\"3. Subtract two matrices\")\n",
    "    print(\"4. Multiply two matrices\")\n",
    "    print(\"5. Divide two matrices\")\n",
    "    print(\"6. Transpose a matrix\")\n",
    "    print(\"7. Exit\")\n",
    "\n",
    "    choice = int(input(\"Enter your choice (1-7): \"))\n",
    "\n",
    "    if choice == 1:\n",
    "        print(\"\\nEnter the first matrix:\")\n",
    "        matrix1 = read_matrix()\n",
    "        if matrix1 is not None:\n",
    "            print(\"\\nEnter the second matrix:\")\n",
    "            matrix2 = read_matrix()\n",
    "            if matrix2 is not None:\n",
    "                print(\"\\nMatrix 1:\")\n",
    "                print(matrix1)\n",
    "                print(\"\\nMatrix 2:\")\n",
    "                print(matrix2)\n",
    "\n",
    "    elif choice == 2:\n",
    "        result = add_matrices(matrix1, matrix2)\n",
    "        if result is not None:\n",
    "            print(\"\\nResult:\")\n",
    "            print(result)\n",
    "\n",
    "    elif choice == 3:\n",
    "        result = subtract_matrices(matrix1, matrix2)\n",
    "        if result is not None:\n",
    "            print(\"\\nResult:\")\n",
    "            print(result)\n",
    "\n",
    "    elif choice == 4:\n",
    "        result = multiply_matrices(matrix1, matrix2)\n",
    "        if result is not None:\n",
    "            print(\"\\nResult:\")\n",
    "            print(result)\n",
    "\n",
    "    elif choice == 5:\n",
    "        result = divide_matrices(matrix1, matrix2)\n",
    "        if result is not None:\n",
    "            print(\"\\nResult:\")\n",
    "            print(result)\n",
    "\n",
    "    elif choice == 6:\n",
    "        matrix = read_matrix()\n",
    "        if matrix is not None:\n",
    "            result = transpose_matrix(matrix)\n",
    "            print(\"\\nResult:\")\n",
    "            print(result)\n",
    "\n",
    "    elif choice == 7:\n",
    "        print(\"Exiting program...\")\n",
    "        break\n",
    "\n",
    "    else:\n",
    "        print(\"Error: Invalid choice. Please try again.\")\n"
   ]
  }
 ],
 "metadata": {
  "kernelspec": {
   "display_name": "Python 3 (ipykernel)",
   "language": "python",
   "name": "python3"
  },
  "language_info": {
   "codemirror_mode": {
    "name": "ipython",
    "version": 3
   },
   "file_extension": ".py",
   "mimetype": "text/x-python",
   "name": "python",
   "nbconvert_exporter": "python",
   "pygments_lexer": "ipython3",
   "version": "3.11.1"
  },
  "vscode": {
   "interpreter": {
    "hash": "e7370f93d1d0cde622a1f8e1c04877d8463912d04d973331ad4851f04de6915a"
   }
  }
 },
 "nbformat": 4,
 "nbformat_minor": 2
}
