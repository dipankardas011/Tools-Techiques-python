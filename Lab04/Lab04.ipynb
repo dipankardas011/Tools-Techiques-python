{
 "cells": [
  {
   "attachments": {},
   "cell_type": "markdown",
   "metadata": {},
   "source": [
    "# Questions\n",
    "Lab04\n",
    "\n",
    "1. Write a program to circulate values of N variable.\n",
    "2. Write a program to find square root of a number using Newtons method.\n",
    "3. Write a program to find exponentiation(power) of a number.\n",
    "4. Write a program to find linear search in a list.\n",
    "5. Write a program to find binary search in a list.\n",
    "6. Write a program to implement selection sort.\n",
    "7. Write a program to implement merge sort.\n",
    "8. Write a program to find first N prime number,\n",
    "9. Write a program to multiply two matrices\n",
    "10. Write a program to find maximum of a list of a number.\n",
    "11. Write a program that encrypts a message by adding a key value to every character (Caesar Cipher)\n",
    "12. Write a program to find whether a given character is present in a string or not.\n",
    "13. Write a program that uses lambda function to multiply two numbers.\n",
    "14. Write a program to reverse a string without using recursion.\n",
    "15. Write a program that counts the amount of lowercase. Uppercase and digit entered by user."
   ]
  },
  {
   "cell_type": "markdown",
   "metadata": {},
   "source": [
    "# Answers\n",
    "Name: Dipankar Das\n",
    "\n",
    "Roll 20051554"
   ]
  },
  {
   "attachments": {},
   "cell_type": "markdown",
   "metadata": {},
   "source": [
    "## Write a program to circulate values of N variable"
   ]
  },
  {
   "cell_type": "code",
   "execution_count": 1,
   "metadata": {},
   "outputs": [
    {
     "name": "stdout",
     "output_type": "stream",
     "text": [
      "[23, 34, 1234, 345]\n"
     ]
    }
   ],
   "source": [
    "n = int(input(\"Enter the value for N\"))\n",
    "arr = [0 for _ in range (n)]\n",
    "for i in range(0,n):\n",
    "  arr[i] = int(input(\"Enter the number\"))\n",
    "print(arr)"
   ]
  },
  {
   "attachments": {},
   "cell_type": "markdown",
   "metadata": {},
   "source": [
    "## Write a program to find square root of a number using Newtons method"
   ]
  },
  {
   "cell_type": "code",
   "execution_count": 3,
   "metadata": {},
   "outputs": [
    {
     "name": "stdout",
     "output_type": "stream",
     "text": [
      "18.083141320042877\n"
     ]
    }
   ],
   "source": [
    "def squareRoot(n, l):\n",
    "\n",
    "  x = n\n",
    "\n",
    "  count = 0\n",
    "\n",
    "  while (1):\n",
    "    count += 1\n",
    "    root = 0.5 * (x + (n / x))\n",
    "    if (abs(root - x) < l):\n",
    "        break\n",
    "    x = root\n",
    "  return root\n",
    "# 0.00001\n",
    "print(squareRoot(int(input(\"Enter the number\")), float(input(\"Enter the precessions\"))))"
   ]
  },
  {
   "attachments": {},
   "cell_type": "markdown",
   "metadata": {},
   "source": [
    "## Write a program to find exponentiation(power) of a number"
   ]
  },
  {
   "cell_type": "code",
   "execution_count": 6,
   "metadata": {},
   "outputs": [
    {
     "name": "stdout",
     "output_type": "stream",
     "text": [
      "32\n"
     ]
    }
   ],
   "source": [
    "def findPower(base,power)->int:\n",
    "  if power == 0:\n",
    "    return 1\n",
    "  if (power&1) == 1:\n",
    "    return base*findPower(base, power-1)\n",
    "  else:\n",
    "    return base*base*findPower(base, power-2)\n",
    "\n",
    "print(findPower(int(input(\"Enter base\")), int(input(\"Enter power\"))))"
   ]
  },
  {
   "attachments": {},
   "cell_type": "markdown",
   "metadata": {},
   "source": [
    "## Write a program to find linear search in a list."
   ]
  },
  {
   "cell_type": "code",
   "execution_count": 2,
   "metadata": {},
   "outputs": [
    {
     "name": "stdout",
     "output_type": "stream",
     "text": [
      "Not found\n"
     ]
    }
   ],
   "source": [
    "list = [3,424,5345,12,23424]\n",
    "found = False\n",
    "search = int(input(\"Enter the ele to search\"))\n",
    "for i in list:\n",
    "  if i == search:\n",
    "    found = True\n",
    "    print(\"Found!\")\n",
    "if not found:\n",
    "  print(\"Not found\")\n"
   ]
  },
  {
   "attachments": {},
   "cell_type": "markdown",
   "metadata": {},
   "source": [
    "## Write a program to find binary search in a list."
   ]
  },
  {
   "cell_type": "code",
   "execution_count": 3,
   "metadata": {},
   "outputs": [
    {
     "name": "stdout",
     "output_type": "stream",
     "text": [
      "Target 7 found at index 3\n"
     ]
    }
   ],
   "source": [
    "def binary_search(arr, target):\n",
    "  left, right = 0, len(arr) - 1\n",
    "  while left <= right:\n",
    "    mid = (left + right) // 2\n",
    "    if arr[mid] == target:\n",
    "      return mid\n",
    "    elif arr[mid] < target:\n",
    "      left = mid + 1\n",
    "    else:\n",
    "      right = mid - 1\n",
    "  return -1  # Target not found in the list\n",
    "\n",
    "\n",
    "arr = [1, 3, 5, 7, 9]\n",
    "target = 7\n",
    "index = binary_search(arr, target)\n",
    "if index != -1:\n",
    "  print(f\"Target {target} found at index {index}\")\n",
    "else:\n",
    "  print(f\"Target {target} not found in the list\")\n"
   ]
  },
  {
   "attachments": {},
   "cell_type": "markdown",
   "metadata": {},
   "source": [
    "## Write a program to implement selection sort"
   ]
  },
  {
   "cell_type": "code",
   "execution_count": 4,
   "metadata": {},
   "outputs": [
    {
     "name": "stdout",
     "output_type": "stream",
     "text": [
      "[1, 1, 2, 3, 3, 4, 5, 5, 5, 6, 9]\n"
     ]
    }
   ],
   "source": [
    "def selection_sort(arr):\n",
    "  n = len(arr)\n",
    "  for i in range(n-1):\n",
    "    min_idx = i\n",
    "    for j in range(i+1, n):\n",
    "      if arr[j] < arr[min_idx]:\n",
    "        min_idx = j\n",
    "    arr[i], arr[min_idx] = arr[min_idx], arr[i]\n",
    "  return arr\n",
    "\n",
    "my_list = [3, 1, 4, 1, 5, 9, 2, 6, 5, 3, 5]\n",
    "sorted_list = selection_sort(my_list)\n",
    "print(sorted_list)\n"
   ]
  },
  {
   "attachments": {},
   "cell_type": "markdown",
   "metadata": {},
   "source": [
    "## Write a program to implement merge sort"
   ]
  },
  {
   "cell_type": "code",
   "execution_count": null,
   "metadata": {},
   "outputs": [],
   "source": [
    "def merge_sort(arr):\n",
    "  if len(arr) <= 1:\n",
    "    return arr\n",
    "  mid = len(arr) // 2\n",
    "  left = arr[:mid]\n",
    "  right = arr[mid:]\n",
    "  left = merge_sort(left)\n",
    "  right = merge_sort(right)\n",
    "  return merge(left, right)\n",
    "\n",
    "def merge(left, right):\n",
    "  result = []\n",
    "  i, j = 0, 0\n",
    "  while i < len(left) and j < len(right):\n",
    "    if left[i] <= right[j]:\n",
    "      result.append(left[i])\n",
    "      i += 1\n",
    "    else:\n",
    "      result.append(right[j])\n",
    "      j += 1\n",
    "  result += left[i:]\n",
    "  result += right[j:]\n",
    "  return result\n",
    "\n",
    "my_list = [3, 1, 4, 1, 5, 9, 2, 6, 5, 3, 5]\n",
    "sorted_list = merge_sort(my_list)\n",
    "print(sorted_list)\n"
   ]
  },
  {
   "attachments": {},
   "cell_type": "markdown",
   "metadata": {},
   "source": [
    "## Write a program to find first N prime number"
   ]
  },
  {
   "cell_type": "code",
   "execution_count": 6,
   "metadata": {},
   "outputs": [
    {
     "name": "stdout",
     "output_type": "stream",
     "text": [
      "[2, 3, 5, 7, 11, 13, 17, 19, 23, 29]\n"
     ]
    }
   ],
   "source": [
    "def is_prime(n):\n",
    "  if n <= 1:\n",
    "      return False\n",
    "  for i in range(2, int(n**0.5) + 1):\n",
    "      if n % i == 0:\n",
    "        return False\n",
    "  return True\n",
    "\n",
    "def first_n_primes(n):\n",
    "  primes = []\n",
    "  i = 2\n",
    "  while len(primes) < n:\n",
    "    if is_prime(i):\n",
    "      primes.append(i)\n",
    "    i += 1\n",
    "  return primes\n",
    "\n",
    "print(first_n_primes(10)) \n"
   ]
  },
  {
   "attachments": {},
   "cell_type": "markdown",
   "metadata": {},
   "source": [
    "## Write a program to multiply two matrices"
   ]
  },
  {
   "cell_type": "code",
   "execution_count": 7,
   "metadata": {},
   "outputs": [
    {
     "name": "stdout",
     "output_type": "stream",
     "text": [
      "[[30, 24, 18], [84, 69, 54], [138, 114, 90]]\n"
     ]
    }
   ],
   "source": [
    "def multiply_matrices(a, b):\n",
    "    \"\"\"\n",
    "    Multiplies two matrices and returns the result.\n",
    "    \"\"\"\n",
    "    # Get the dimensions of the matrices\n",
    "    a_rows, a_cols = len(a), len(a[0])\n",
    "    b_rows, b_cols = len(b), len(b[0])\n",
    "    \n",
    "    # Check if the matrices are compatible for multiplication\n",
    "    if a_cols != b_rows:\n",
    "        raise ValueError(\"Matrices are not compatible for multiplication\")\n",
    "\n",
    "    # Create an empty result matrix\n",
    "    result = [[0 for _ in range(b_cols)] for _ in range(a_rows)]\n",
    "    \n",
    "    # Multiply the matrices\n",
    "    for i in range(a_rows):\n",
    "        for j in range(b_cols):\n",
    "            for k in range(a_cols):\n",
    "                result[i][j] += a[i][k] * b[k][j]\n",
    "    \n",
    "    return result\n",
    "\n",
    "a = [[1, 2, 3], [4, 5, 6], [7, 8, 9]]\n",
    "b = [[9, 8, 7], [6, 5, 4], [3, 2, 1]]\n",
    "c = multiply_matrices(a, b)\n",
    "print(c)"
   ]
  },
  {
   "attachments": {},
   "cell_type": "markdown",
   "metadata": {},
   "source": [
    "## Write a program to find maximum of a list of a number."
   ]
  },
  {
   "cell_type": "code",
   "execution_count": 9,
   "metadata": {},
   "outputs": [
    {
     "name": "stdout",
     "output_type": "stream",
     "text": [
      "The maximum number is: 25\n"
     ]
    }
   ],
   "source": [
    "numbers = [5, 10, 15, 20, 25]\n",
    "\n",
    "maximum = max(numbers)\n",
    "\n",
    "print(\"The maximum number is:\", maximum)"
   ]
  },
  {
   "attachments": {},
   "cell_type": "markdown",
   "metadata": {},
   "source": [
    "## Write a program that encrypts a message by adding a key value to every character (Caesar Cipher)"
   ]
  },
  {
   "cell_type": "code",
   "execution_count": 1,
   "metadata": {},
   "outputs": [
    {
     "name": "stdout",
     "output_type": "stream",
     "text": [
      "Encrypted message: C\n"
     ]
    }
   ],
   "source": [
    "message = input(\"Enter your message: \")\n",
    "key = int(input(\"Enter the key value: \"))\n",
    "\n",
    "encrypted_message = \"\"\n",
    "message = message.upper()\n",
    "\n",
    "for character in message:\n",
    "    # Check if the character is a letter\n",
    "    if character.isalpha():\n",
    "        # Convert the character to its ASCII code, add the key value, and convert back to a character\n",
    "        encrypted_character = chr((ord(character) + key - 65) % 26 + 65)\n",
    "    else:\n",
    "        # Non-letter characters are not encrypted\n",
    "        encrypted_character = character\n",
    "    \n",
    "    encrypted_message += encrypted_character\n",
    "\n",
    "print(\"Encrypted message:\", encrypted_message)\n"
   ]
  },
  {
   "attachments": {},
   "cell_type": "markdown",
   "metadata": {},
   "source": [
    "## Write a program to find whether a given character is present in a string or not."
   ]
  },
  {
   "cell_type": "code",
   "execution_count": 6,
   "metadata": {},
   "outputs": [
    {
     "name": "stdout",
     "output_type": "stream",
     "text": [
      "Found b\n",
      "Found b\n"
     ]
    }
   ],
   "source": [
    "str = input(\"Enter the string\")\n",
    "char = input(\"Enter the character\")\n",
    "for i in str:\n",
    "  if i == char:\n",
    "    print(\"Found \"+i)\n"
   ]
  },
  {
   "attachments": {},
   "cell_type": "markdown",
   "metadata": {},
   "source": [
    "## Write a program that uses lambda function to multiply two numbers"
   ]
  },
  {
   "cell_type": "code",
   "execution_count": 7,
   "metadata": {},
   "outputs": [
    {
     "name": "stdout",
     "output_type": "stream",
     "text": [
      "15\n"
     ]
    }
   ],
   "source": [
    "multiply = lambda x, y: x * y\n",
    "result = multiply(3, 5)\n",
    "print(result)\n"
   ]
  },
  {
   "attachments": {},
   "cell_type": "markdown",
   "metadata": {},
   "source": [
    "## Write a program to reverse a string without using recursion."
   ]
  },
  {
   "cell_type": "code",
   "execution_count": 10,
   "metadata": {},
   "outputs": [
    {
     "name": "stdout",
     "output_type": "stream",
     "text": [
      "!dlroW ,olleH\n"
     ]
    }
   ],
   "source": [
    "original_str = \"Hello, World!\"\n",
    "reversed_str = original_str[::-1]\n",
    "\n",
    "print(reversed_str)  # Output: \"!dlroW ,olleH\"\n",
    "\n"
   ]
  },
  {
   "attachments": {},
   "cell_type": "markdown",
   "metadata": {},
   "source": [
    "## Write a program that counts the amount of lowercase. Uppercase and digit entered by user"
   ]
  },
  {
   "cell_type": "code",
   "execution_count": 11,
   "metadata": {},
   "outputs": [
    {
     "name": "stdout",
     "output_type": "stream",
     "text": [
      "Lowercase count: 2\n",
      "Uppercase count: 2\n",
      "Digit count: 0\n"
     ]
    }
   ],
   "source": [
    "input_str = input(\"Enter a string: \")\n",
    "\n",
    "lowercase_count = 0\n",
    "uppercase_count = 0\n",
    "digit_count = 0\n",
    "\n",
    "for char in input_str:\n",
    "    if char.islower():\n",
    "        lowercase_count += 1\n",
    "    elif char.isupper():\n",
    "        uppercase_count += 1\n",
    "    elif char.isdigit():\n",
    "        digit_count += 1\n",
    "\n",
    "print(\"Lowercase count:\", lowercase_count)\n",
    "print(\"Uppercase count:\", uppercase_count)\n",
    "print(\"Digit count:\", digit_count)\n"
   ]
  }
 ],
 "metadata": {
  "kernelspec": {
   "display_name": "base",
   "language": "python",
   "name": "python3"
  },
  "language_info": {
   "codemirror_mode": {
    "name": "ipython",
    "version": 3
   },
   "file_extension": ".py",
   "mimetype": "text/x-python",
   "name": "python",
   "nbconvert_exporter": "python",
   "pygments_lexer": "ipython3",
   "version": "3.9.13"
  },
  "orig_nbformat": 4,
  "vscode": {
   "interpreter": {
    "hash": "f3f09461ad29ca90760faa364cf9be1da22aa929b778d775e6c87c9f9fc98976"
   }
  }
 },
 "nbformat": 4,
 "nbformat_minor": 2
}
