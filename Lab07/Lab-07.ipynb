{
 "cells": [
  {
   "attachments": {},
   "cell_type": "markdown",
   "metadata": {},
   "source": [
    "# Questions\n",
    "1. Write a NumPy program to create a structured array from given student name, height, age and their data types. Now sort by age, then height if age are equal.\n",
    "2. Write a NumPy program to get the indices of the sorted elements of a given array. \n",
    "3. Write a NumPy program to test whether none of the elements of a given array is zero. \n",
    "4. Write a NumPy program to swap rows and columns of a given array in reverse order. \n",
    "5.  Write a NumPy program to multiply two given arrays of same size element-by-element.\n",
    "6. Write a NumPy program to convert a given list into an array, then again convert it into a list. Check initial list and final list are equal or not. \n",
    "7. Write a NumPy program to convert a list of numeric value into a one-dimensional NumPy array.\n",
    "8. Write a NumPy program to convert a list and tuple into arrays.\n",
    "9. Write a NumPy program to get the unique elements of an array.\n",
    "10. Write a NumPy program to construct an array by repeating."
   ]
  },
  {
   "attachments": {},
   "cell_type": "markdown",
   "metadata": {},
   "source": [
    "# Answers\n",
    "Dipankar Das\n",
    "20051554"
   ]
  },
  {
   "attachments": {},
   "cell_type": "markdown",
   "metadata": {},
   "source": [
    "## Write a NumPy program to create a structured array from given student name, height, age and their data types. Now sort by age, then height if age are equal."
   ]
  },
  {
   "cell_type": "code",
   "execution_count": 51,
   "metadata": {},
   "outputs": [
    {
     "name": "stdout",
     "output_type": "stream",
     "text": [
      "Name: Dipankar,Height: 7.132,Age: 21\n",
      "Name: Demo,Height: 3242.32,Age: 23\n",
      "Name: edwdwe,Height: 2342.324,Age: 23\n"
     ]
    }
   ],
   "source": [
    "import numpy as np\n",
    "\n",
    "class Student:\n",
    "  def __init__(self, name: str, height:float, age:int):\n",
    "    self.name = name\n",
    "    self.height = height\n",
    "    self.age = age\n",
    "  def display(self):\n",
    "    print(f\"Name: {self.name},Height: {self.height},Age: {self.age}\")\n",
    "\n",
    "a = np.array([Student(\"Dipankar\", 7.132, 21),\n",
    "              Student(\"Demo\", 3242.32, 23),\n",
    "              Student(\"edwdwe\", 2342.324, 23)], dtype=Student)\n",
    "\n",
    "for stu in a:\n",
    "  stu.display()"
   ]
  },
  {
   "attachments": {},
   "cell_type": "markdown",
   "metadata": {},
   "source": [
    "## Write a NumPy program to get the indices of the sorted elements of a given array."
   ]
  },
  {
   "cell_type": "code",
   "execution_count": 28,
   "metadata": {},
   "outputs": [
    {
     "name": "stdout",
     "output_type": "stream",
     "text": [
      "[2 3 4 6 1]\n",
      "sorted element index diff from org => [4 0 1 2 3]\n"
     ]
    }
   ],
   "source": [
    "A = np.array([2,3,4,6,1], dtype=np.int32)\n",
    "print(A)\n",
    "\n",
    "print(f\"sorted element index diff from org => {np.argsort(A)}\")"
   ]
  },
  {
   "attachments": {},
   "cell_type": "markdown",
   "metadata": {},
   "source": [
    "## Write a NumPy program to test whether none of the elements of a given array is zero."
   ]
  },
  {
   "cell_type": "code",
   "execution_count": 31,
   "metadata": {},
   "outputs": [
    {
     "name": "stdout",
     "output_type": "stream",
     "text": [
      "Zero is present\n"
     ]
    }
   ],
   "source": [
    "arr = np.array([32,2,10,123,131,130,0], dtype=np.int32)\n",
    "flag = False\n",
    "for item in arr:\n",
    "  if item == 0:\n",
    "    flag = True\n",
    "    break\n",
    "if not flag:\n",
    "  print(\"Zero is absent\")\n",
    "else:\n",
    "  print(\"Zero is present\")"
   ]
  },
  {
   "attachments": {},
   "cell_type": "markdown",
   "metadata": {},
   "source": [
    "## Write a NumPy program to swap rows and columns of a given array in reverse order."
   ]
  },
  {
   "cell_type": "code",
   "execution_count": 35,
   "metadata": {},
   "outputs": [
    {
     "name": "stdout",
     "output_type": "stream",
     "text": [
      "[[9 8 7]\n",
      " [6 5 4]\n",
      " [3 2 1]]\n"
     ]
    }
   ],
   "source": [
    "m = int(input(\"Enter no of rows\"))\n",
    "n = int(input(\"Enter no of columns\"))\n",
    "\n",
    "arr = np.zeros((m,n), dtype=np.int32)\n",
    "\n",
    "for i in range(m):\n",
    "  for j in range(n):\n",
    "    arr[i,j] = np.int32(input(\"Enter the element\"))\n",
    "\n",
    "arr = arr[::-1, :]\n",
    "arr = arr[:, ::-1]\n",
    "\n",
    "print(arr)"
   ]
  },
  {
   "attachments": {},
   "cell_type": "markdown",
   "metadata": {},
   "source": [
    "## Write a NumPy program to multiply two given arrays of same size element-by-element."
   ]
  },
  {
   "cell_type": "code",
   "execution_count": 36,
   "metadata": {},
   "outputs": [
    {
     "name": "stdout",
     "output_type": "stream",
     "text": [
      "[[ 1  4]\n",
      " [ 9 16]]\n"
     ]
    }
   ],
   "source": [
    "mult1 = np.array([[1,2],\n",
    "                  [3,4]], dtype=np.int32)\n",
    "mult2 = np.array([[1,2],\n",
    "                  [3,4]], dtype=np.int32)\n",
    "\n",
    "print(mult1 * mult2)"
   ]
  },
  {
   "attachments": {},
   "cell_type": "markdown",
   "metadata": {},
   "source": [
    "## Write a NumPy program to convert a given list into an array, then again convert it into a list. Check initial list and final list are equal or not."
   ]
  },
  {
   "cell_type": "code",
   "execution_count": 39,
   "metadata": {},
   "outputs": [
    {
     "name": "stdout",
     "output_type": "stream",
     "text": [
      "list[34, 4, 1, 0]\n",
      "list[34, 4, 1, 0]\n",
      "True\n"
     ]
    }
   ],
   "source": [
    "lst = list[34,4,1,0]\n",
    "print(lst)\n",
    "arrLst = np.array(lst)\n",
    "print(arrLst)\n",
    "print(arrLst.tolist() == lst)"
   ]
  },
  {
   "attachments": {},
   "cell_type": "markdown",
   "metadata": {},
   "source": [
    "## Write a NumPy program to convert a list of numeric value into a one-dimensional NumPy array."
   ]
  },
  {
   "cell_type": "code",
   "execution_count": 41,
   "metadata": {},
   "outputs": [
    {
     "name": "stdout",
     "output_type": "stream",
     "text": [
      "list[34, 4, 1, 0]\n"
     ]
    },
    {
     "data": {
      "text/plain": [
       "array(list[34, 4, 1, 0], dtype=object)"
      ]
     },
     "execution_count": 41,
     "metadata": {},
     "output_type": "execute_result"
    }
   ],
   "source": [
    "lst = list[34,4,1,0]\n",
    "print(lst)\n",
    "np.array(lst)"
   ]
  },
  {
   "attachments": {},
   "cell_type": "markdown",
   "metadata": {},
   "source": [
    "## Write a NumPy program to convert a list and tuple into arrays."
   ]
  },
  {
   "cell_type": "code",
   "execution_count": 46,
   "metadata": {},
   "outputs": [
    {
     "name": "stdout",
     "output_type": "stream",
     "text": [
      "list[34, 45, 13, 3]\n",
      "[ 34 234 234]\n"
     ]
    }
   ],
   "source": [
    "lst = list[34,45,13,3]\n",
    "tup = (34,234,234)\n",
    "# print(tup)\n",
    "# print(lst)\n",
    "print(np.array(lst))\n",
    "print(np.array(tup))"
   ]
  },
  {
   "attachments": {},
   "cell_type": "markdown",
   "metadata": {},
   "source": [
    "## Write a NumPy program to get the unique elements of an array."
   ]
  },
  {
   "cell_type": "code",
   "execution_count": 52,
   "metadata": {},
   "outputs": [
    {
     "name": "stdout",
     "output_type": "stream",
     "text": [
      "[1 2 3 4]\n"
     ]
    }
   ],
   "source": [
    "arr = np.array([1,2,2,3,4,4], dtype=np.int32)\n",
    "print(np.unique(arr))"
   ]
  },
  {
   "attachments": {},
   "cell_type": "markdown",
   "metadata": {},
   "source": [
    "## Write a NumPy program to construct an array by repeating."
   ]
  },
  {
   "cell_type": "code",
   "execution_count": 55,
   "metadata": {},
   "outputs": [
    {
     "name": "stdout",
     "output_type": "stream",
     "text": [
      "[1, 2, 3, 4]\n",
      "[1 2 3 4 1 2 3 4]\n"
     ]
    }
   ],
   "source": [
    "a = [1, 2, 3, 4]\n",
    "print(a)\n",
    "x = np.tile(a, 2)\n",
    "print(x)"
   ]
  }
 ],
 "metadata": {
  "kernelspec": {
   "display_name": "Python 3",
   "language": "python",
   "name": "python3"
  },
  "language_info": {
   "codemirror_mode": {
    "name": "ipython",
    "version": 3
   },
   "file_extension": ".py",
   "mimetype": "text/x-python",
   "name": "python",
   "nbconvert_exporter": "python",
   "pygments_lexer": "ipython3",
   "version": "3.11.1"
  },
  "orig_nbformat": 4
 },
 "nbformat": 4,
 "nbformat_minor": 2
}
