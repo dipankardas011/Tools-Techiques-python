{
 "cells": [
  {
   "attachments": {},
   "cell_type": "markdown",
   "metadata": {},
   "source": [
    "# Questions\n",
    "LAB-3\n",
    "\n",
    "1. WAP to calculate the factorial of a given number. \n",
    "\n",
    "2. WAP to calculate the sum of digits of a given number. \n",
    "\n",
    "3. WAP to display the reverse of a number entered through keyboard.\n",
    "\n",
    "4. WAP to find the GCD/HCF of two numbers . \n",
    "\n",
    "5. WAP to check whether a number n is prime number or not.\n",
    "> Hints: A number is a perfect number if is equal to sum of its proper divisors, that is, sum of its positive divisors excluding the number itself. Write a function to check if a given number is perfect or not. The first perfect number is 6, because 1, 2, and 3 are its proper positive divisors, and 1 + 2 + 3 = 6\n",
    "\n",
    "6. WAP to find out the prime factors of a number entered through keyboard (distinct). \n",
    "> Hints: A prime number is any number with no divisors other than itself and 1, such as 2 and 5. Any number can be written as a product of prime numbers in a unique way (except for the order). These are called prime factors of a number. In other words, In number theory, the prime factors of a positive integer are the prime numbers that divide that integer exactly, without leaving a remainder. The process of finding these numbers is called integer factorization, or prime factorization. • Enter a number : 100 • The prime factors of 100 are 2(2) and 5(2) • That is, 100 = 2 x 2 x 5 x 5, and those numbers are primes.\n",
    "\n",
    "7. WAP to print the following pattern for n rows. Ex. for n=6 rows\n",
    "```\n",
    "1\n",
    "0 1\n",
    "1 0 1\n",
    "0 1 0 1\n",
    "1 0 1 0 1\n",
    "0 1 0 1 0 1\n",
    "```\n",
    "8. WAP to print the following pattern for n rows. Ex. for n=5 rows\n",
    "```\n",
    "A\n",
    "B A\n",
    "C B A\n",
    "D C B A\n",
    "E D C B A\n",
    "```\n",
    "\n",
    "9. WAP to print the following pattern for n rows. Ex. for n=5 rows\n",
    "```\n",
    "1\n",
    "2 1\n",
    "1 2 3\n",
    "4 3 2 1\n",
    "1 2 3 4 5\n",
    "```\n",
    "\n",
    "10. WAP to convert a decimal number into its equivalent number with base b. Decimal number and b are\n",
    "the user input.\n",
    "\n",
    "11. Find the largest item from a given list \n",
    "\n",
    "12. Check if two sets have any elements in common. If yes, display the common elements. \n",
    "\n",
    "13. Write a Python function to check whether a number is perfect or not.  \n",
    "\n",
    "14. Write a Python function that accepts a string and calculate the number of upper case letters and lower case letters. \n",
    "\n",
    "15. Write a Python program using Lambda function to checks whether a passed string is palindrome or not."
   ]
  },
  {
   "attachments": {},
   "cell_type": "markdown",
   "metadata": {},
   "source": [
    "# Answers\n",
    "Name: Dipankar Das\n",
    "\n",
    "Roll 20051554"
   ]
  },
  {
   "attachments": {},
   "cell_type": "markdown",
   "metadata": {},
   "source": [
    "## WAP to calculate the factorial of a given number"
   ]
  },
  {
   "cell_type": "code",
   "execution_count": 1,
   "metadata": {},
   "outputs": [
    {
     "data": {
      "text/plain": [
       "120"
      ]
     },
     "execution_count": 1,
     "metadata": {},
     "output_type": "execute_result"
    }
   ],
   "source": [
    "def factorial(n: int)-> int:\n",
    "  if n <= 1: \n",
    "    return 1\n",
    "  return n * factorial(n-1)\n",
    "\n",
    "factorial(5)"
   ]
  },
  {
   "attachments": {},
   "cell_type": "markdown",
   "metadata": {},
   "source": [
    "## WAP to calculate the sum of digits of a given number."
   ]
  },
  {
   "cell_type": "code",
   "execution_count": 2,
   "metadata": {},
   "outputs": [
    {
     "data": {
      "text/plain": [
       "10"
      ]
     },
     "execution_count": 2,
     "metadata": {},
     "output_type": "execute_result"
    }
   ],
   "source": [
    "def sumOfDigits(n: int)-> int:\n",
    "  if n == 0:\n",
    "    return 0\n",
    "  return n%10 + sumOfDigits(n//10)\n",
    "\n",
    "sumOfDigits(1234)"
   ]
  },
  {
   "attachments": {},
   "cell_type": "markdown",
   "metadata": {},
   "source": [
    "## WAP to display the reverse of a number entered through keyboard. "
   ]
  },
  {
   "cell_type": "code",
   "execution_count": 3,
   "metadata": {},
   "outputs": [
    {
     "name": "stdout",
     "output_type": "stream",
     "text": [
      "4321"
     ]
    }
   ],
   "source": [
    "def number(n: int):\n",
    "  if n == 0:\n",
    "    return\n",
    "  print(n%10, end='')\n",
    "  number(n//10)\n",
    "\n",
    "no = int(input(\"Input the number\"))\n",
    "number(no)"
   ]
  },
  {
   "attachments": {},
   "cell_type": "markdown",
   "metadata": {},
   "source": [
    "## WAP to find the GCD/HCF of two numbers"
   ]
  },
  {
   "cell_type": "code",
   "execution_count": 7,
   "metadata": {},
   "outputs": [
    {
     "name": "stdout",
     "output_type": "stream",
     "text": [
      "3\n"
     ]
    }
   ],
   "source": [
    "def calGCD(a: int, b: int) -> int:\n",
    "  if b < a:\n",
    "    return calGCD(b, a)\n",
    "  if a == 0:\n",
    "    return b\n",
    "  return calGCD(b%a, a)\n",
    "\n",
    "print(calGCD(12,9))"
   ]
  },
  {
   "attachments": {},
   "cell_type": "markdown",
   "metadata": {},
   "source": [
    "## WAP to check whether a number n is prime number or not."
   ]
  },
  {
   "cell_type": "code",
   "execution_count": 8,
   "metadata": {},
   "outputs": [
    {
     "name": "stdout",
     "output_type": "stream",
     "text": [
      "IsPrime : True\n"
     ]
    }
   ],
   "source": [
    "def isPrime(no: int)-> bool:\n",
    "  for i in range(2, no):\n",
    "    if no % i == 0:\n",
    "      return False\n",
    "  return True\n",
    "no = int(input(\"Enter the no\"))\n",
    "print(f\"IsPrime : {isPrime(no)}\")"
   ]
  },
  {
   "attachments": {},
   "cell_type": "markdown",
   "metadata": {},
   "source": [
    "## WAP to find out the prime factors of a number entered through keyboard (distinct). "
   ]
  },
  {
   "cell_type": "code",
   "execution_count": 19,
   "metadata": {},
   "outputs": [
    {
     "name": "stdout",
     "output_type": "stream",
     "text": [
      "2 3 5 \n",
      "2 5 "
     ]
    }
   ],
   "source": [
    "def steveOfErithrous(n)-> bool:\n",
    "  number = [True for _ in range(n+1)]\n",
    "  i = 2\n",
    "  while i * i <= n:\n",
    "    if number[i]:\n",
    "      for j in range(i*i,n+1, i):\n",
    "        number[j] = False\n",
    "    i += 1\n",
    "  \n",
    "  for i in range(2, n):\n",
    "    if number[i] and n % i == 0:\n",
    "      print(i, end=\" \")\n",
    "steveOfErithrous(30)\n",
    "print()\n",
    "steveOfErithrous(100)"
   ]
  },
  {
   "attachments": {},
   "cell_type": "markdown",
   "metadata": {},
   "source": [
    "## WAP to print the following pattern for n rows. Ex. for n=6 rows\n",
    "```\n",
    "1\n",
    "0 1\n",
    "1 0 1\n",
    "0 1 0 1\n",
    "1 0 1 0 1\n",
    "0 1 0 1 0 1\n",
    "```"
   ]
  },
  {
   "cell_type": "code",
   "execution_count": 21,
   "metadata": {},
   "outputs": [
    {
     "name": "stdout",
     "output_type": "stream",
     "text": [
      "1 \n",
      "0 1 \n",
      "1 0 1 \n",
      "0 1 0 1 \n",
      "1 0 1 0 1 \n",
      "0 1 0 1 0 1 \n"
     ]
    }
   ],
   "source": [
    "def printer(n):\n",
    "  row = 1\n",
    "  for i in range(1, n+1):\n",
    "    col = row\n",
    "    for j in range(0, i):\n",
    "      print(col, end=\" \")\n",
    "      col = (col+1)%2\n",
    "    print()\n",
    "    row = (row+1)%2\n",
    "printer(6)"
   ]
  },
  {
   "attachments": {},
   "cell_type": "markdown",
   "metadata": {},
   "source": [
    "## WAP to print the following pattern for n rows. Ex. for n=5 rows\n",
    "```\n",
    "A\n",
    "B A\n",
    "C B A\n",
    "D C B A\n",
    "E D C B A\n",
    "```"
   ]
  },
  {
   "cell_type": "code",
   "execution_count": 29,
   "metadata": {},
   "outputs": [
    {
     "name": "stdout",
     "output_type": "stream",
     "text": [
      "A \n",
      "B A \n",
      "C B A \n",
      "D C B A \n",
      "E D C B A \n"
     ]
    }
   ],
   "source": [
    "def printer_1(n: int):\n",
    "  for i in range(0, n):\n",
    "    ch = 65\n",
    "    for j in range(i, -1, -1):\n",
    "      print(chr(65+j), end=\" \")\n",
    "    print()\n",
    "printer_1(5)"
   ]
  },
  {
   "attachments": {},
   "cell_type": "markdown",
   "metadata": {},
   "source": [
    "## WAP to print the following pattern for n rows. Ex. for n=5 rows\n",
    "```\n",
    "1\n",
    "2 1\n",
    "1 2 3\n",
    "4 3 2 1\n",
    "1 2 3 4 5\n",
    "```"
   ]
  },
  {
   "cell_type": "code",
   "execution_count": 30,
   "metadata": {},
   "outputs": [
    {
     "name": "stdout",
     "output_type": "stream",
     "text": [
      "1 \n",
      "2 1 \n",
      "1 2 3 \n",
      "4 3 2 1 \n",
      "1 2 3 4 5 \n"
     ]
    }
   ],
   "source": [
    "def printer_2(n: int)-> int:\n",
    "  for i in range(1, n+1):\n",
    "    if (i & 1) == 0:\n",
    "      # even\n",
    "      for j in range(i, 0, -1):\n",
    "        print(j, end=' ')\n",
    "    else:\n",
    "      for j in range(1, i+1, 1):\n",
    "        print(j, end=' ')\n",
    "    print()\n",
    "printer_2(5)"
   ]
  },
  {
   "attachments": {},
   "cell_type": "markdown",
   "metadata": {},
   "source": [
    "## WAP to convert a decimal number into its equivalent number with base b. Decimal number and b are the user input"
   ]
  },
  {
   "cell_type": "code",
   "execution_count": 41,
   "metadata": {},
   "outputs": [
    {
     "name": "stdout",
     "output_type": "stream",
     "text": [
      "1 0 0 \n",
      "4 1 \n",
      "A "
     ]
    }
   ],
   "source": [
    "def convertor(base: int, deciam: int):\n",
    "  if deciam > 0:\n",
    "    convertor(base, deciam//base)\n",
    "    if base == 16:\n",
    "      print(chr(65 + deciam%base - 10), end=' ')\n",
    "    else:\n",
    "      print(deciam%base, end=' ')\n",
    "\n",
    "convertor(2, 4)\n",
    "print()\n",
    "convertor(8, 33)\n",
    "print()\n",
    "convertor(16, 10)"
   ]
  },
  {
   "attachments": {},
   "cell_type": "markdown",
   "metadata": {},
   "source": [
    "## Find the largest item from a given list "
   ]
  },
  {
   "cell_type": "code",
   "execution_count": 43,
   "metadata": {},
   "outputs": [
    {
     "name": "stdout",
     "output_type": "stream",
     "text": [
      "2345\n"
     ]
    }
   ],
   "source": [
    "list = [23, 45, -1, 2345]\n",
    "print(max(list))"
   ]
  },
  {
   "attachments": {},
   "cell_type": "markdown",
   "metadata": {},
   "source": [
    "## Check if two sets have any elements in common. If yes, display the common elements. "
   ]
  },
  {
   "cell_type": "code",
   "execution_count": 48,
   "metadata": {},
   "outputs": [
    {
     "name": "stdout",
     "output_type": "stream",
     "text": [
      "{24, 34, 234, 243}\n",
      "{34, 324, 43, 53, 24}\n",
      "{24, 34}\n"
     ]
    }
   ],
   "source": [
    "a = set([34, 234,24,243])\n",
    "b = set([43,34,53,324,24])\n",
    "print(a)\n",
    "print(b)\n",
    "\n",
    "print(a.intersection(b))"
   ]
  },
  {
   "attachments": {},
   "cell_type": "markdown",
   "metadata": {},
   "source": [
    "## Write a Python function to check whether a number is perfect or not.  "
   ]
  },
  {
   "cell_type": "code",
   "execution_count": 57,
   "metadata": {},
   "outputs": [
    {
     "name": "stdout",
     "output_type": "stream",
     "text": [
      "Perfect number\n"
     ]
    }
   ],
   "source": [
    "def factors(n: int)-> list:\n",
    "  factor = []\n",
    "  for i in range(1, n):\n",
    "    if n % i == 0:\n",
    "      factor.append(i)\n",
    "  return factor\n",
    "n = int(input(\"enter the number\"))\n",
    "fact = factors(n)\n",
    "if sum(fact) == n:\n",
    "  print(\"Perfect number\")\n",
    "else:\n",
    "  print(\"not a perfect number\")"
   ]
  },
  {
   "attachments": {},
   "cell_type": "markdown",
   "metadata": {},
   "source": [
    "## Write a Python function that accepts a string and calculate the number of upper case letters and lower case letters. "
   ]
  },
  {
   "cell_type": "code",
   "execution_count": 59,
   "metadata": {},
   "outputs": [
    {
     "name": "stdout",
     "output_type": "stream",
     "text": [
      "AbD\n",
      "2 1\n"
     ]
    }
   ],
   "source": [
    "def isLetter(letter)-> bool:\n",
    "  if len(letter) == 0 or len(letter) > 1:\n",
    "    return False\n",
    "  if (letter >= 'a' and letter <= 'z') or (letter >= 'A' and letter <=\n",
    "'Z'):\n",
    "    return True\n",
    "  else:\n",
    "    return False\n",
    "str = input(\"enter string\")\n",
    "noOfUpper = 0\n",
    "noOfLower = 0\n",
    "for i in range(0, len(str)):\n",
    "  if isLetter(str[i]):\n",
    "    if str[i].isupper():\n",
    "      noOfUpper += 1\n",
    "    else:\n",
    "      noOfLower += 1\n",
    "print(str)\n",
    "print(noOfUpper, noOfLower)"
   ]
  },
  {
   "attachments": {},
   "cell_type": "markdown",
   "metadata": {},
   "source": [
    "## Write a Python program using Lambda function to checks whether a passed string is palindrome or not.\n"
   ]
  },
  {
   "cell_type": "code",
   "execution_count": 61,
   "metadata": {},
   "outputs": [
    {
     "name": "stdout",
     "output_type": "stream",
     "text": [
      "Palindrome\n"
     ]
    }
   ],
   "source": [
    "str = input(\"Enter the string\")\n",
    "\n",
    "isPalindrome = lambda str : str == str[::-1]\n",
    "if isPalindrome:\n",
    "  print(\"Palindrome\")\n",
    "else:\n",
    "  print(\"Not palindrome\")"
   ]
  }
 ],
 "metadata": {
  "kernelspec": {
   "display_name": "base",
   "language": "python",
   "name": "python3"
  },
  "language_info": {
   "codemirror_mode": {
    "name": "ipython",
    "version": 3
   },
   "file_extension": ".py",
   "mimetype": "text/x-python",
   "name": "python",
   "nbconvert_exporter": "python",
   "pygments_lexer": "ipython3",
   "version": "3.9.13"
  },
  "orig_nbformat": 4,
  "vscode": {
   "interpreter": {
    "hash": "f3f09461ad29ca90760faa364cf9be1da22aa929b778d775e6c87c9f9fc98976"
   }
  }
 },
 "nbformat": 4,
 "nbformat_minor": 2
}
