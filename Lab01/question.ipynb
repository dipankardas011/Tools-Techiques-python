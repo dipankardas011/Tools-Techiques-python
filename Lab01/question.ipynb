{
 "cells": [
  {
   "attachments": {},
   "cell_type": "markdown",
   "metadata": {},
   "source": [
    "### Add Two Numbers"
   ]
  },
  {
   "cell_type": "code",
   "execution_count": 1,
   "metadata": {},
   "outputs": [
    {
     "name": "stdout",
     "output_type": "stream",
     "text": [
      "24\n"
     ]
    }
   ],
   "source": [
    "a = int(input(\"Enter value for a\"))\n",
    "b = int(input(\"Enter value for b\"))\n",
    "print(a+b)"
   ]
  },
  {
   "attachments": {},
   "cell_type": "markdown",
   "metadata": {},
   "source": [
    "### Find the Square Root"
   ]
  },
  {
   "cell_type": "code",
   "execution_count": 2,
   "metadata": {},
   "outputs": [
    {
     "name": "stdout",
     "output_type": "stream",
     "text": [
      "2.23606797749979\n"
     ]
    }
   ],
   "source": [
    "import math\n",
    "num: int = int(input(\"Enter the number\"))\n",
    "sqrt: float = math.sqrt(num)\n",
    "\n",
    "print(sqrt)"
   ]
  },
  {
   "attachments": {},
   "cell_type": "markdown",
   "metadata": {},
   "source": [
    "### Calculate the Area of a Triangle"
   ]
  },
  {
   "cell_type": "code",
   "execution_count": 3,
   "metadata": {},
   "outputs": [
    {
     "name": "stdout",
     "output_type": "stream",
     "text": [
      "Area of triangle with length =2.0, breadth =2.0 = 2.0\n"
     ]
    }
   ],
   "source": [
    "length: float = float(input(\"Enter the length of triangle\"))\n",
    "breadth: float = float(input(\"Enter the breadth of triangle\"))\n",
    "\n",
    "area: float = 0.5 * length * breadth\n",
    "\n",
    "print(f\"Area of triangle with length ={length}, breadth ={breadth} = {area}\")"
   ]
  },
  {
   "attachments": {},
   "cell_type": "markdown",
   "metadata": {},
   "source": [
    "### Solve Quadratic Equation"
   ]
  },
  {
   "cell_type": "code",
   "execution_count": 7,
   "metadata": {},
   "outputs": [
    {
     "name": "stdout",
     "output_type": "stream",
     "text": [
      "Res: (-2+1j) and (-2-1j)\n"
     ]
    }
   ],
   "source": [
    "a: float = float(input(\"Enter val for a\"))\n",
    "b: float = float(input(\"Enter val for b\"))\n",
    "c: float = float(input(\"Enter val for c\"))\n",
    "\n",
    "real: float = -b/(2*a)\n",
    "img: float = 0.0\n",
    "if b*b <= 4*a*c:\n",
    "  img = math.sqrt(abs(b*b-4*a*c)) / (2*a)\n",
    "  print(f\"Res: {complex(real, img)} and {complex(real, -img)}\")\n",
    "else:\n",
    "  img = math.sqrt(b*b-4*a*c) / (2*a)\n",
    "  print(f\"Res: {real+img} and {real-img}\")"
   ]
  },
  {
   "attachments": {},
   "cell_type": "markdown",
   "metadata": {},
   "source": [
    "### Swap Two Variables"
   ]
  },
  {
   "cell_type": "code",
   "execution_count": 11,
   "metadata": {},
   "outputs": [
    {
     "name": "stdout",
     "output_type": "stream",
     "text": [
      "a=2, b=5\n"
     ]
    }
   ],
   "source": [
    "def swap(a: int, b: int)-> tuple[int, int]:\n",
    "  return b,a\n",
    "\n",
    "a = 5\n",
    "b = 2\n",
    "a, b = swap(a,b)\n",
    "print(f\"a={a}, b={b}\")"
   ]
  },
  {
   "attachments": {},
   "cell_type": "markdown",
   "metadata": {},
   "source": [
    "### Generate a Random Number"
   ]
  },
  {
   "cell_type": "code",
   "execution_count": 22,
   "metadata": {},
   "outputs": [
    {
     "name": "stdout",
     "output_type": "stream",
     "text": [
      "418\n"
     ]
    }
   ],
   "source": [
    "import random\n",
    "\n",
    "print(random.randint(1, 1000))"
   ]
  },
  {
   "attachments": {},
   "cell_type": "markdown",
   "metadata": {},
   "source": [
    "### Convert Kilometers to Miles"
   ]
  },
  {
   "cell_type": "code",
   "execution_count": 26,
   "metadata": {},
   "outputs": [
    {
     "name": "stdout",
     "output_type": "stream",
     "text": [
      "kms: 0.5\tmeters: 500.0\n"
     ]
    }
   ],
   "source": [
    "kms:int = 0.5\n",
    "meter:int = 1_000\n",
    "\n",
    "print(f\"kms: {kms}\\tmeters: {kms*meter}\")"
   ]
  },
  {
   "attachments": {},
   "cell_type": "markdown",
   "metadata": {},
   "source": [
    "### Convert Celsius To Fahrenheit"
   ]
  },
  {
   "cell_type": "code",
   "execution_count": 28,
   "metadata": {},
   "outputs": [
    {
     "name": "stdout",
     "output_type": "stream",
     "text": [
      "Fahrenheit 89.6 ºF\n"
     ]
    }
   ],
   "source": [
    "def convertCelsiusToFahrenheit(C: float)-> float:\n",
    "  return (9/5)*C + 32.0\n",
    "\n",
    "celsius = float(input(\"Enter the temperature in ºC\"))\n",
    "print(f\"Fahrenheit {convertCelsiusToFahrenheit(celsius)} ºF\")"
   ]
  },
  {
   "attachments": {},
   "cell_type": "markdown",
   "metadata": {},
   "source": [
    "### Make a Simple Calculator"
   ]
  },
  {
   "cell_type": "code",
   "execution_count": 31,
   "metadata": {},
   "outputs": [
    {
     "name": "stdout",
     "output_type": "stream",
     "text": [
      "The result is:  3.0\n"
     ]
    }
   ],
   "source": [
    "def calculator():\n",
    "    # Get the first number from the user\n",
    "    num1 = float(input(\"Enter the first number: \"))\n",
    "\n",
    "    # Get the operator from the user\n",
    "    operator = input(\"Enter the operator (+, -, *, /): \")\n",
    "\n",
    "    # Get the second number from the user\n",
    "    num2 = float(input(\"Enter the second number: \"))\n",
    "\n",
    "    # Perform the calculation\n",
    "    result = 0.0\n",
    "    try:\n",
    "      if operator == \"+\":\n",
    "          result = num1 + num2\n",
    "      elif operator == \"-\":\n",
    "          result = num1 - num2\n",
    "      elif operator == \"*\":\n",
    "          result = num1 * num2\n",
    "      elif operator == \"/\":\n",
    "          result = num1 / num2\n",
    "      else:\n",
    "          result = \"Invalid operator\"\n",
    "    except ZeroDivisionError:\n",
    "      print(\"Zero division!!\")\n",
    "    finally:\n",
    "      # Print the result\n",
    "      print(\"The result is: \", result)\n",
    "\n",
    "# Call the calculator function\n",
    "calculator()\n"
   ]
  },
  {
   "attachments": {},
   "cell_type": "markdown",
   "metadata": {},
   "source": [
    "### Find Numbers Divisible by Another Number"
   ]
  },
  {
   "cell_type": "code",
   "execution_count": 33,
   "metadata": {},
   "outputs": [
    {
     "name": "stdout",
     "output_type": "stream",
     "text": [
      "[4, 6, 8, 10, 12, 14, 16, 18, 20, 22, 24, 26, 28, 30, 32, 34, 36, 38, 40, 42, 44, 46, 48, 50, 52, 54, 56, 58, 60, 62, 64, 66, 68, 70, 72, 74, 76, 78, 80, 82, 84, 86, 88, 90, 92, 94, 96, 98, 100]\n"
     ]
    }
   ],
   "source": [
    "def find_divisible(start, end, divisor):\n",
    "    divisible_numbers = []\n",
    "    for i in range(start, end+1):\n",
    "        if i % divisor == 0:\n",
    "            divisible_numbers.append(i)\n",
    "    return divisible_numbers\n",
    "\n",
    "print(find_divisible(3,100, 2))"
   ]
  }
 ],
 "metadata": {
  "kernelspec": {
   "display_name": "base",
   "language": "python",
   "name": "python3"
  },
  "language_info": {
   "codemirror_mode": {
    "name": "ipython",
    "version": 3
   },
   "file_extension": ".py",
   "mimetype": "text/x-python",
   "name": "python",
   "nbconvert_exporter": "python",
   "pygments_lexer": "ipython3",
   "version": "3.9.13 (main, Aug 25 2022, 23:26:10) \n[GCC 11.2.0]"
  },
  "orig_nbformat": 4,
  "vscode": {
   "interpreter": {
    "hash": "f3f09461ad29ca90760faa364cf9be1da22aa929b778d775e6c87c9f9fc98976"
   }
  }
 },
 "nbformat": 4,
 "nbformat_minor": 2
}
