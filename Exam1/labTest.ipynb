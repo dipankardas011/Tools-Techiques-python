{
 "cells": [
  {
   "attachments": {},
   "cell_type": "markdown",
   "metadata": {},
   "source": [
    "# Answers\n",
    "Name: Dipankar Das\n",
    "\n",
    "Roll 20051554"
   ]
  },
  {
   "attachments": {},
   "cell_type": "markdown",
   "metadata": {},
   "source": [
    "## Print alternate digits of a 7-digit no."
   ]
  },
  {
   "cell_type": "code",
   "execution_count": 2,
   "metadata": {},
   "outputs": [
    {
     "name": "stdout",
     "output_type": "stream",
     "text": [
      "2\n",
      "8\n",
      "8\n"
     ]
    }
   ],
   "source": [
    "def alterDigit(n:int):\n",
    "  ifPrint: bool = False\n",
    "  while (n>0):\n",
    "    if ifPrint:\n",
    "      print(n%10)\n",
    "    ifPrint = not ifPrint\n",
    "    n //= 10\n",
    "\n",
    "alterDigit(7878124)"
   ]
  },
  {
   "attachments": {},
   "cell_type": "markdown",
   "metadata": {},
   "source": [
    "## Keep elements from odd indices of an array and store in reverse order."
   ]
  },
  {
   "cell_type": "code",
   "execution_count": 3,
   "metadata": {},
   "outputs": [
    {
     "data": {
      "text/plain": [
       "[6, 4, 2]"
      ]
     },
     "execution_count": 3,
     "metadata": {},
     "output_type": "execute_result"
    }
   ],
   "source": [
    "def getList(n):\n",
    "  arr = []\n",
    "  for i in range(len(n)):\n",
    "    if ((i&1) == 1):\n",
    "      arr.append(n[i])\n",
    "  return arr[::-1]\n",
    "\n",
    "getList([1,2,3,4,5,6,7])"
   ]
  },
  {
   "attachments": {},
   "cell_type": "markdown",
   "metadata": {},
   "source": [
    "## Add two times in clock and print in hrs, minutes and seconds."
   ]
  },
  {
   "cell_type": "code",
   "execution_count": 5,
   "metadata": {},
   "outputs": [
    {
     "name": "stdout",
     "output_type": "stream",
     "text": [
      "hrs=11 min=8 sec=38\n"
     ]
    }
   ],
   "source": [
    "class Time:\n",
    "  def __init__(self, h,m,s):\n",
    "    self.hrs = h\n",
    "    self.min = m\n",
    "    self.sec = s\n",
    "\n",
    "def addTime(obj1: Time, obj2: Time):\n",
    "  res = Time(0,0,0)\n",
    "  s = obj1.sec + obj2.sec\n",
    "  res.sec = s%60\n",
    "  res.min = s//60\n",
    "  res.min += obj1.min + obj2.min\n",
    "  res.hrs = res.min // 60\n",
    "  res.min %= 60\n",
    "  res.hrs += obj1.hrs + obj2.hrs\n",
    "  return res\n",
    "\n",
    "t1 = Time(5,1,30)\n",
    "t2 = Time(6,7,8)\n",
    "t3 = addTime(t1,t2)\n",
    "print(f\"hrs={t3.hrs} min={t3.min} sec={t3.sec}\")"
   ]
  },
  {
   "attachments": {},
   "cell_type": "markdown",
   "metadata": {},
   "source": [
    "## Write a menu driven program using Function to perform calculator operation for mathematical operations (i.e Addition, Subtraction, Multiplication, division)"
   ]
  },
  {
   "cell_type": "code",
   "execution_count": 6,
   "metadata": {},
   "outputs": [
    {
     "name": "stdout",
     "output_type": "stream",
     "text": [
      "res = 12\n"
     ]
    }
   ],
   "source": [
    "choice = int(input(\"[1] add [2] mult [3] sub [4] div\"))\n",
    "op1 = int(input(\"enter first operand\"))\n",
    "op2 = int(input(\"enter second operand\"))\n",
    "\n",
    "if choice == 1:\n",
    "  print(f\"res = {op1 + op2}\")\n",
    "elif choice == 2:\n",
    "  print(f\"res = {op1 * op2}\")\n",
    "elif choice == 3:\n",
    "  print(f\"res = {op1 - op2}\")\n",
    "elif choice == 4:\n",
    "  print(f\"res = {op1 / op2}\")\n",
    "else:\n",
    "  print(\"Invalid option\")\n"
   ]
  },
  {
   "attachments": {},
   "cell_type": "markdown",
   "metadata": {},
   "source": [
    "## Write a program using function (C(n,r)) to calculate the compound interest for the given principal, rate of interest and number of years."
   ]
  },
  {
   "cell_type": "code",
   "execution_count": 8,
   "metadata": {},
   "outputs": [
    {
     "name": "stdout",
     "output_type": "stream",
     "text": [
      "Compound interest = 955.0800000000004\n"
     ]
    }
   ],
   "source": [
    "def C(P, r, t):\n",
    "  return P * (pow(1+r/100, t) - 1)\n",
    "\n",
    "print(f\"Compound interest = {C(5000, 6, 3)}\")"
   ]
  }
 ],
 "metadata": {
  "kernelspec": {
   "display_name": "base",
   "language": "python",
   "name": "python3"
  },
  "language_info": {
   "codemirror_mode": {
    "name": "ipython",
    "version": 3
   },
   "file_extension": ".py",
   "mimetype": "text/x-python",
   "name": "python",
   "nbconvert_exporter": "python",
   "pygments_lexer": "ipython3",
   "version": "3.9.13"
  },
  "orig_nbformat": 4,
  "vscode": {
   "interpreter": {
    "hash": "f3f09461ad29ca90760faa364cf9be1da22aa929b778d775e6c87c9f9fc98976"
   }
  }
 },
 "nbformat": 4,
 "nbformat_minor": 2
}
