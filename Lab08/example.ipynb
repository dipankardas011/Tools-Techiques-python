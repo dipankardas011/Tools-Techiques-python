{
 "cells": [
  {
   "attachments": {},
   "cell_type": "markdown",
   "metadata": {},
   "source": [
    "# Basic on dataframe"
   ]
  },
  {
   "cell_type": "code",
   "execution_count": 110,
   "metadata": {},
   "outputs": [
    {
     "name": "stdout",
     "output_type": "stream",
     "text": [
      "    cars  passings\n",
      "0    BMW         3\n",
      "1  Volvo         7\n",
      "2   Ford         2\n",
      "     calories  duration\n",
      "Feb       420        50\n",
      "Mar       380        40\n",
      "Apr       390        45\n"
     ]
    }
   ],
   "source": [
    "import pandas as pd\n",
    "mydataset = {\n",
    "  'cars': [\"BMW\", \"Volvo\", \"Ford\"],\n",
    "  'passings': [3, 7, 2]\n",
    "}\n",
    "print(pd.DataFrame(mydataset))\n",
    "\n",
    "data = {\n",
    "    \"calories\": [420, 380, 390],\n",
    "    \"duration\": [50, 40, 45]\n",
    "}\n",
    "print(pd.DataFrame(data, index=[\"Feb\", \"Mar\", \"Apr\"]))"
   ]
  },
  {
   "attachments": {},
   "cell_type": "markdown",
   "metadata": {},
   "source": [
    "# check the pandas.Series()"
   ]
  },
  {
   "cell_type": "code",
   "execution_count": 111,
   "metadata": {},
   "outputs": [
    {
     "name": "stdout",
     "output_type": "stream",
     "text": [
      "<bound method Series.to_string of x    2\n",
      "y    4\n",
      "z    6\n",
      "dtype: int64>\n",
      "day1    {'Cal': 23, 'Steps': 10000}\n",
      "day2                            380\n",
      "day3                            390\n",
      "dtype: object\n"
     ]
    }
   ],
   "source": [
    "myvar = pd.Series([2,4,6], index = [\"x\", \"y\", \"z\"])\n",
    "print(myvar.to_string)\n",
    "\n",
    "\n",
    "calories = {\"day1\": {\"Cal\": 23, \"Steps\": 10_000}, \"day2\": 380, \"day3\": 390}\n",
    "myvar = pd.Series(calories)\n",
    "print(myvar)"
   ]
  },
  {
   "attachments": {},
   "cell_type": "markdown",
   "metadata": {},
   "source": [
    "#  Operations on `Example-data.csv`"
   ]
  },
  {
   "cell_type": "code",
   "execution_count": 112,
   "metadata": {},
   "outputs": [
    {
     "name": "stdout",
     "output_type": "stream",
     "text": [
      "MAX_ROWS = 60\n",
      "     Duration  Pulse  Maxpulse  Calories\n",
      "0          60    110       130     409.1\n",
      "1          60    117       145     479.0\n",
      "2          60    103       135     340.0\n",
      "3          45    109       175     282.4\n",
      "4          45    117       148     406.0\n",
      "..        ...    ...       ...       ...\n",
      "164        60    105       140     290.8\n",
      "165        60    110       145     300.0\n",
      "166        60    115       145     310.2\n",
      "167        75    120       150     320.4\n",
      "168        75    125       150     330.4\n",
      "\n",
      "[169 rows x 4 columns]\n"
     ]
    }
   ],
   "source": [
    "import pandas as pd\n",
    "\n",
    "#You can check your system's maximum rows with the pd.options.display.max_rows statement.\n",
    "print(f\"MAX_ROWS = {pd.options.display.max_rows}\")\n",
    "\n",
    "df = pd.read_csv(\"example-data.csv\")\n",
    "\n",
    "print(df)"
   ]
  },
  {
   "attachments": {},
   "cell_type": "markdown",
   "metadata": {},
   "source": [
    "## lets print complete dataset"
   ]
  },
  {
   "cell_type": "code",
   "execution_count": 113,
   "metadata": {},
   "outputs": [
    {
     "name": "stdout",
     "output_type": "stream",
     "text": [
      "    Duration  Pulse  Maxpulse  Calories\n",
      "0         60    110       130     409.1\n",
      "1         60    117       145     479.0\n",
      "2         60    103       135     340.0\n",
      "3         45    109       175     282.4\n",
      "4         45    117       148     406.0\n",
      "5         60    102       127     300.0\n",
      "6         60    110       136     374.0\n",
      "7         45    104       134     253.3\n",
      "8         30    109       133     195.1\n",
      "9         60     98       124     269.0\n",
      "10        60    103       147     329.3\n",
      "11        60    100       120     250.7\n",
      "12        60    106       128     345.3\n",
      "13        60    104       132     379.3\n",
      "14        60     98       123     275.0\n",
      "15        60     98       120     215.2\n",
      "16        60    100       120     300.0\n",
      "17        45     90       112       NaN\n",
      "18        60    103       123     323.0\n",
      "19        45     97       125     243.0\n",
      "20        60    108       131     364.2\n",
      "21        45    100       119     282.0\n",
      "22        60    130       101     300.0\n",
      "23        45    105       132     246.0\n",
      "24        60    102       126     334.5\n",
      "25        60    100       120     250.0\n",
      "26        60     92       118     241.0\n",
      "27        60    103       132       NaN\n",
      "28        60    100       132     280.0\n",
      "29        60    102       129     380.3\n",
      "<class 'pandas.core.frame.DataFrame'>\n",
      "RangeIndex: 169 entries, 0 to 168\n",
      "Data columns (total 4 columns):\n",
      " #   Column    Non-Null Count  Dtype  \n",
      "---  ------    --------------  -----  \n",
      " 0   Duration  169 non-null    int64  \n",
      " 1   Pulse     169 non-null    int64  \n",
      " 2   Maxpulse  169 non-null    int64  \n",
      " 3   Calories  164 non-null    float64\n",
      "dtypes: float64(1), int64(3)\n",
      "memory usage: 5.4 KB\n",
      "None\n"
     ]
    }
   ],
   "source": [
    "# lets print all the first 30 dataset in string format\n",
    "print(df.head(30).to_string())\n",
    "# print out the dataset information\n",
    "print(df.info())"
   ]
  },
  {
   "attachments": {},
   "cell_type": "markdown",
   "metadata": {},
   "source": [
    " >Inference from dateframe.info() is calories has `169 - 164` no of NULL entries"
   ]
  },
  {
   "attachments": {},
   "cell_type": "markdown",
   "metadata": {},
   "source": [
    "## Lets remove the NULL entries"
   ]
  },
  {
   "cell_type": "code",
   "execution_count": 114,
   "metadata": {},
   "outputs": [
    {
     "name": "stdout",
     "output_type": "stream",
     "text": [
      "    Duration  Pulse  Maxpulse  Calories\n",
      "0         60    110       130     409.1\n",
      "1         60    117       145     479.0\n",
      "2         60    103       135     340.0\n",
      "3         45    109       175     282.4\n",
      "4         45    117       148     406.0\n",
      "5         60    102       127     300.0\n",
      "6         60    110       136     374.0\n",
      "7         45    104       134     253.3\n",
      "8         30    109       133     195.1\n",
      "9         60     98       124     269.0\n",
      "10        60    103       147     329.3\n",
      "11        60    100       120     250.7\n",
      "12        60    106       128     345.3\n",
      "13        60    104       132     379.3\n",
      "14        60     98       123     275.0\n",
      "15        60     98       120     215.2\n",
      "16        60    100       120     300.0\n",
      "18        60    103       123     323.0\n",
      "19        45     97       125     243.0\n",
      "20        60    108       131     364.2\n",
      "21        45    100       119     282.0\n",
      "22        60    130       101     300.0\n",
      "23        45    105       132     246.0\n",
      "24        60    102       126     334.5\n",
      "25        60    100       120     250.0\n",
      "26        60     92       118     241.0\n",
      "28        60    100       132     280.0\n",
      "29        60    102       129     380.3\n",
      "    Duration  Pulse  Maxpulse  Calories\n",
      "0         60    110       130     409.1\n",
      "1         60    117       145     479.0\n",
      "2         60    103       135     340.0\n",
      "3         45    109       175     282.4\n",
      "4         45    117       148     406.0\n",
      "5         60    102       127     300.0\n",
      "6         60    110       136     374.0\n",
      "7         45    104       134     253.3\n",
      "8         30    109       133     195.1\n",
      "9         60     98       124     269.0\n",
      "10        60    103       147     329.3\n",
      "11        60    100       120     250.7\n",
      "12        60    106       128     345.3\n",
      "13        60    104       132     379.3\n",
      "14        60     98       123     275.0\n",
      "15        60     98       120     215.2\n",
      "16        60    100       120     300.0\n",
      "18        60    103       123     323.0\n",
      "19        45     97       125     243.0\n",
      "20        60    108       131     364.2\n",
      "21        45    100       119     282.0\n",
      "22        60    130       101     300.0\n",
      "23        45    105       132     246.0\n",
      "24        60    102       126     334.5\n",
      "25        60    100       120     250.0\n",
      "26        60     92       118     241.0\n",
      "28        60    100       132     280.0\n",
      "29        60    102       129     380.3\n",
      "30        60     92       115     243.0\n",
      "31        45     90       112     180.1\n"
     ]
    }
   ],
   "source": [
    "print(df.head(30).dropna().to_string()) # removed the NULL entries\n",
    "# the above command didn't change the orginal dataframe\n",
    "\n",
    "# to change the original dataframe\n",
    "df.dropna(inplace=True)\n",
    "print(df.head(30).to_string()) "
   ]
  },
  {
   "attachments": {},
   "cell_type": "markdown",
   "metadata": {},
   "source": [
    "## replace the missing values from STANDARD GLOBAL CONSTRANT"
   ]
  },
  {
   "cell_type": "code",
   "execution_count": 115,
   "metadata": {},
   "outputs": [
    {
     "name": "stdout",
     "output_type": "stream",
     "text": [
      "    Duration  Pulse  Maxpulse  Calories\n",
      "0         60    110       130     409.1\n",
      "1         60    117       145     479.0\n",
      "2         60    103       135     340.0\n",
      "3         45    109       175     282.4\n",
      "4         45    117       148     406.0\n",
      "5         60    102       127     300.0\n",
      "6         60    110       136     374.0\n",
      "7         45    104       134     253.3\n",
      "8         30    109       133     195.1\n",
      "9         60     98       124     269.0\n",
      "10        60    103       147     329.3\n",
      "11        60    100       120     250.7\n",
      "12        60    106       128     345.3\n",
      "13        60    104       132     379.3\n",
      "14        60     98       123     275.0\n",
      "15        60     98       120     215.2\n",
      "16        60    100       120     300.0\n",
      "17        45     90       112  999999.0\n",
      "18        60    103       123     323.0\n",
      "19        45     97       125     243.0\n",
      "20        60    108       131     364.2\n",
      "21        45    100       119     282.0\n",
      "22        60    130       101     300.0\n",
      "23        45    105       132     246.0\n",
      "24        60    102       126     334.5\n",
      "25        60    100       120     250.0\n",
      "26        60     92       118     241.0\n",
      "27        60    103       132  999999.0\n",
      "28        60    100       132     280.0\n",
      "29        60    102       129     380.3\n",
      "    Duration  Pulse  Maxpulse  Calories\n",
      "0         60    110       130     409.1\n",
      "1         60    117       145     479.0\n",
      "2         60    103       135     340.0\n",
      "3         45    109       175     282.4\n",
      "4         45    117       148     406.0\n",
      "5         60    102       127     300.0\n",
      "6         60    110       136     374.0\n",
      "7         45    104       134     253.3\n",
      "8         30    109       133     195.1\n",
      "9         60     98       124     269.0\n",
      "10        60    103       147     329.3\n",
      "11        60    100       120     250.7\n",
      "12        60    106       128     345.3\n",
      "13        60    104       132     379.3\n",
      "14        60     98       123     275.0\n",
      "15        60     98       120     215.2\n",
      "16        60    100       120     300.0\n",
      "17        45     90       112    1300.0\n",
      "18        60    103       123     323.0\n",
      "19        45     97       125     243.0\n",
      "20        60    108       131     364.2\n",
      "21        45    100       119     282.0\n",
      "22        60    130       101     300.0\n",
      "23        45    105       132     246.0\n",
      "24        60    102       126     334.5\n",
      "25        60    100       120     250.0\n",
      "26        60     92       118     241.0\n",
      "27        60    103       132    1300.0\n",
      "28        60    100       132     280.0\n",
      "29        60    102       129     380.3\n"
     ]
    }
   ],
   "source": [
    "# if we want to replace all NaN entries to some data (contrain: other attributes must be of the type we replace the data with)\n",
    "\n",
    "df1 = pd.read_csv(\"example-data.csv\")\n",
    "\n",
    "printDf = df1.fillna(999999)\n",
    "print(printDf.head(30).to_string())\n",
    "\n",
    "# we want to replace Nan specific to a given attribute\n",
    "df = pd.read_csv(\"example-data.csv\")\n",
    "df[\"Calories\"].fillna(1300, inplace=True)\n",
    "print(df.head(30).to_string())"
   ]
  },
  {
   "attachments": {},
   "cell_type": "markdown",
   "metadata": {},
   "source": [
    "## replace the mean, median, mode"
   ]
  },
  {
   "cell_type": "code",
   "execution_count": 116,
   "metadata": {},
   "outputs": [
    {
     "name": "stdout",
     "output_type": "stream",
     "text": [
      "    Duration  Pulse  Maxpulse  Calories\n",
      "0         60    110       130     409.1\n",
      "1         60    117       145     479.0\n",
      "2         60    103       135     340.0\n",
      "3         45    109       175     282.4\n",
      "4         45    117       148     406.0\n",
      "5         60    102       127     300.0\n",
      "6         60    110       136     374.0\n",
      "7         45    104       134     253.3\n",
      "8         30    109       133     195.1\n",
      "9         60     98       124     269.0\n",
      "10        60    103       147     329.3\n",
      "11        60    100       120     250.7\n",
      "12        60    106       128     345.3\n",
      "13        60    104       132     379.3\n",
      "14        60     98       123     275.0\n",
      "15        60     98       120     215.2\n",
      "16        60    100       120     300.0\n",
      "17        45     90       112     300.0\n",
      "18        60    103       123     323.0\n",
      "19        45     97       125     243.0\n",
      "20        60    108       131     364.2\n",
      "21        45    100       119     282.0\n",
      "22        60    130       101     300.0\n",
      "23        45    105       132     246.0\n",
      "24        60    102       126     334.5\n",
      "25        60    100       120     250.0\n",
      "26        60     92       118     241.0\n",
      "27        60    103       132     300.0\n",
      "28        60    100       132     280.0\n",
      "29        60    102       129     380.3\n"
     ]
    }
   ],
   "source": [
    "df = pd.read_csv(\"example-data.csv\")\n",
    "# x = df[\"Calories\"].mean()\n",
    "# x = df[\"Calories\"].median()\n",
    "x = df[\"Calories\"].mode()[0]\n",
    "df[\"Calories\"].fillna(x, inplace = True)\n",
    "print(df.head(30).to_string())"
   ]
  },
  {
   "attachments": {},
   "cell_type": "markdown",
   "metadata": {},
   "source": [
    "# Operations in Dataset `data.csv`"
   ]
  },
  {
   "cell_type": "code",
   "execution_count": 117,
   "metadata": {},
   "outputs": [
    {
     "name": "stdout",
     "output_type": "stream",
     "text": [
      "    Duration  Pulse  Maxpulse  Calories       Date\n",
      "0         60    110       130     409.1 2020-12-01\n",
      "1         60    117       145     479.0 2020-12-02\n",
      "2         60    103       135     340.0 2020-12-03\n",
      "3         45    109       175     282.4 2020-12-04\n",
      "4         45    117       148     406.0 2020-12-05\n",
      "5         60    102       127     300.0 2020-12-06\n",
      "6         60    110       136     374.0 2020-12-07\n",
      "7         45    104       134     253.3 2020-12-08\n",
      "8         45    104       134     253.3 2020-12-08\n",
      "9         30    109       133     195.1 2020-12-09\n",
      "10        60     98       124     269.0 2020-12-10\n",
      "11        60    103       147     329.3 2020-12-11\n",
      "12        60    100       120     250.7 2020-12-12\n",
      "13        60    106       128     345.3 2020-12-13\n",
      "14        60    104       132     379.3 2020-12-14\n",
      "15        60     98       123     275.0 2020-12-15\n",
      "16        60     98       120     215.2 2020-12-16\n",
      "17        60    100       120     300.0 2020-12-17\n",
      "18        45     90       112       NaN 2020-12-18\n",
      "19        60    103       123     323.0 2020-12-19\n",
      "20        45     97       125     243.0 2020-12-20\n",
      "21        60    108       131     364.2 2020-12-21\n",
      "22        45    100       119     282.0 2020-12-22\n",
      "23        60    130       101     300.0 2020-12-23\n",
      "24        45    105       132     246.0 2020-12-24\n",
      "25        60    102       126     334.5 2020-12-25\n",
      "26        60    100       120     250.0 2020-12-26\n",
      "27        60     92       118     241.0 2020-12-27\n",
      "28        60    103       132       NaN 2020-12-28\n",
      "29        60    100       132     280.0 2020-12-29\n",
      "30        60    102       129     380.3 2020-12-30\n"
     ]
    }
   ],
   "source": [
    "df = pd.read_csv(\"data.csv\")\n",
    "df['Date'] = pd.to_datetime(df['Date'], format=\"%d-%m-%Y\")\n",
    "print(df.to_string())\n"
   ]
  },
  {
   "attachments": {},
   "cell_type": "markdown",
   "metadata": {},
   "source": [
    "## drop the row having `Nan`"
   ]
  },
  {
   "cell_type": "code",
   "execution_count": 118,
   "metadata": {},
   "outputs": [
    {
     "name": "stdout",
     "output_type": "stream",
     "text": [
      "    Duration  Pulse  Maxpulse  Calories       Date\n",
      "0         60    110       130     409.1 2020-12-01\n",
      "1         60    117       145     479.0 2020-12-02\n",
      "2         60    103       135     340.0 2020-12-03\n",
      "3         45    109       175     282.4 2020-12-04\n",
      "4         45    117       148     406.0 2020-12-05\n",
      "5         60    102       127     300.0 2020-12-06\n",
      "6         60    110       136     374.0 2020-12-07\n",
      "7         45    104       134     253.3 2020-12-08\n",
      "8         45    104       134     253.3 2020-12-08\n",
      "9         30    109       133     195.1 2020-12-09\n",
      "10        60     98       124     269.0 2020-12-10\n",
      "11        60    103       147     329.3 2020-12-11\n",
      "12        60    100       120     250.7 2020-12-12\n",
      "13        60    106       128     345.3 2020-12-13\n",
      "14        60    104       132     379.3 2020-12-14\n",
      "15        60     98       123     275.0 2020-12-15\n",
      "16        60     98       120     215.2 2020-12-16\n",
      "17        60    100       120     300.0 2020-12-17\n",
      "19        60    103       123     323.0 2020-12-19\n",
      "20        45     97       125     243.0 2020-12-20\n",
      "21        60    108       131     364.2 2020-12-21\n",
      "22        45    100       119     282.0 2020-12-22\n",
      "23        60    130       101     300.0 2020-12-23\n",
      "24        45    105       132     246.0 2020-12-24\n",
      "25        60    102       126     334.5 2020-12-25\n",
      "26        60    100       120     250.0 2020-12-26\n",
      "27        60     92       118     241.0 2020-12-27\n",
      "29        60    100       132     280.0 2020-12-29\n",
      "30        60    102       129     380.3 2020-12-30\n"
     ]
    }
   ],
   "source": [
    "print(df.dropna().to_string())"
   ]
  },
  {
   "attachments": {},
   "cell_type": "markdown",
   "metadata": {},
   "source": [
    "## replacing data in specific row and attribute"
   ]
  },
  {
   "cell_type": "code",
   "execution_count": 119,
   "metadata": {},
   "outputs": [
    {
     "name": "stdout",
     "output_type": "stream",
     "text": [
      "    Duration  Pulse  Maxpulse  Calories       Date\n",
      "0         60    110       130     409.1 2020-12-01\n",
      "1         60    117       145     479.0 2020-12-02\n",
      "2         60    103       135     340.0 2020-12-03\n",
      "3         45    109       175     282.4 2020-12-04\n",
      "4         45    117       148     406.0 2020-12-05\n",
      "5         60    102       127     300.0 2020-12-06\n",
      "6     500000    110       136     374.0 2020-12-07\n",
      "7         45    104       134     253.3 2020-12-08\n",
      "8         45    104       134     253.3 2020-12-08\n",
      "9         30    109       133     195.1 2020-12-09\n",
      "10        60     98       124     269.0 2020-12-10\n",
      "11        60    103       147     329.3 2020-12-11\n",
      "12        60    100       120     250.7 2020-12-12\n",
      "13        60    106       128     345.3 2020-12-13\n",
      "14        60    104       132     379.3 2020-12-14\n",
      "15        60     98       123     275.0 2020-12-15\n",
      "16        60     98       120     215.2 2020-12-16\n",
      "17        60    100       120     300.0 2020-12-17\n",
      "18        45     90       112       NaN 2020-12-18\n",
      "19        60    103       123     323.0 2020-12-19\n",
      "20        45     97       125     243.0 2020-12-20\n",
      "21        60    108       131     364.2 2020-12-21\n",
      "22        45    100       119     282.0 2020-12-22\n",
      "23        60    130       101     300.0 2020-12-23\n",
      "24        45    105       132     246.0 2020-12-24\n",
      "25        60    102       126     334.5 2020-12-25\n",
      "26        60    100       120     250.0 2020-12-26\n",
      "27        60     92       118     241.0 2020-12-27\n",
      "28        60    103       132       NaN 2020-12-28\n",
      "29        60    100       132     280.0 2020-12-29\n",
      "30        60    102       129     380.3 2020-12-30\n"
     ]
    }
   ],
   "source": [
    "df.loc[6, 'Duration'] = 500000\n",
    "print(df)"
   ]
  },
  {
   "cell_type": "code",
   "execution_count": 120,
   "metadata": {},
   "outputs": [
    {
     "name": "stdout",
     "output_type": "stream",
     "text": [
      "<class 'pandas.core.frame.DataFrame'>\n",
      "RangeIndex: 31 entries, 0 to 30\n",
      "Data columns (total 5 columns):\n",
      " #   Column    Non-Null Count  Dtype         \n",
      "---  ------    --------------  -----         \n",
      " 0   Duration  31 non-null     int64         \n",
      " 1   Pulse     31 non-null     int64         \n",
      " 2   Maxpulse  31 non-null     int64         \n",
      " 3   Calories  29 non-null     float64       \n",
      " 4   Date      31 non-null     datetime64[ns]\n",
      "dtypes: datetime64[ns](1), float64(1), int64(3)\n",
      "memory usage: 1.3 KB\n",
      "None\n",
      "    Duration  Pulse  Maxpulse  Calories       Date\n",
      "0         60    110       120     409.1 2020-12-01\n",
      "1         60    117       120     479.0 2020-12-02\n",
      "2         60    103       120     340.0 2020-12-03\n",
      "3         45    109       120     282.4 2020-12-04\n",
      "4         45    117       120     406.0 2020-12-05\n",
      "5         60    102       120     300.0 2020-12-06\n",
      "6     500000    110       120     374.0 2020-12-07\n",
      "7         45    104       120     253.3 2020-12-08\n",
      "8         45    104       120     253.3 2020-12-08\n",
      "9         30    109       120     195.1 2020-12-09\n",
      "10        60     98       120     269.0 2020-12-10\n",
      "11        60    103       120     329.3 2020-12-11\n",
      "12        60    100       120     250.7 2020-12-12\n",
      "13        60    106       120     345.3 2020-12-13\n",
      "14        60    104       120     379.3 2020-12-14\n",
      "15        60     98       120     275.0 2020-12-15\n",
      "16        60     98       120     215.2 2020-12-16\n",
      "17        60    100       120     300.0 2020-12-17\n",
      "18        45     90       112       NaN 2020-12-18\n",
      "19        60    103       120     323.0 2020-12-19\n",
      "20        45     97       120     243.0 2020-12-20\n",
      "21        60    108       120     364.2 2020-12-21\n",
      "22        45    100       119     282.0 2020-12-22\n",
      "23        60    130       101     300.0 2020-12-23\n",
      "24        45    105       120     246.0 2020-12-24\n",
      "25        60    102       120     334.5 2020-12-25\n",
      "26        60    100       120     250.0 2020-12-26\n",
      "27        60     92       118     241.0 2020-12-27\n",
      "28        60    103       120       NaN 2020-12-28\n",
      "29        60    100       120     280.0 2020-12-29\n",
      "30        60    102       120     380.3 2020-12-30\n"
     ]
    }
   ],
   "source": [
    "print(df.info())\n",
    "for x in df.index:\n",
    "  if df.loc[x, 'Maxpulse'] > 120:\n",
    "    df.loc[x, \"Maxpulse\"] = 120\n",
    "print(df.to_string())"
   ]
  },
  {
   "attachments": {},
   "cell_type": "markdown",
   "metadata": {},
   "source": [
    "## remove duplicates"
   ]
  },
  {
   "cell_type": "code",
   "execution_count": 121,
   "metadata": {},
   "outputs": [
    {
     "name": "stdout",
     "output_type": "stream",
     "text": [
      "    Duration  Pulse  Maxpulse  Calories       Date\n",
      "0         60    110       120     409.1 2020-12-01\n",
      "1         60    117       120     479.0 2020-12-02\n",
      "2         60    103       120     340.0 2020-12-03\n",
      "3         45    109       120     282.4 2020-12-04\n",
      "4         45    117       120     406.0 2020-12-05\n",
      "5         60    102       120     300.0 2020-12-06\n",
      "6     500000    110       120     374.0 2020-12-07\n",
      "7         45    104       120     253.3 2020-12-08\n",
      "9         30    109       120     195.1 2020-12-09\n",
      "10        60     98       120     269.0 2020-12-10\n",
      "11        60    103       120     329.3 2020-12-11\n",
      "12        60    100       120     250.7 2020-12-12\n",
      "13        60    106       120     345.3 2020-12-13\n",
      "14        60    104       120     379.3 2020-12-14\n",
      "15        60     98       120     275.0 2020-12-15\n",
      "16        60     98       120     215.2 2020-12-16\n",
      "17        60    100       120     300.0 2020-12-17\n",
      "18        45     90       112       NaN 2020-12-18\n",
      "19        60    103       120     323.0 2020-12-19\n",
      "20        45     97       120     243.0 2020-12-20\n",
      "21        60    108       120     364.2 2020-12-21\n",
      "22        45    100       119     282.0 2020-12-22\n",
      "23        60    130       101     300.0 2020-12-23\n",
      "24        45    105       120     246.0 2020-12-24\n",
      "25        60    102       120     334.5 2020-12-25\n",
      "26        60    100       120     250.0 2020-12-26\n",
      "27        60     92       118     241.0 2020-12-27\n",
      "28        60    103       120       NaN 2020-12-28\n",
      "29        60    100       120     280.0 2020-12-29\n",
      "30        60    102       120     380.3 2020-12-30\n"
     ]
    }
   ],
   "source": [
    "print(df.drop_duplicates().to_string())"
   ]
  },
  {
   "cell_type": "code",
   "execution_count": 122,
   "metadata": {},
   "outputs": [
    {
     "data": {
      "image/png": "[encoded data removed]",
      "text/plain": [
       "<Figure size 640x480 with 1 Axes>"
      ]
     },
     "metadata": {},
     "output_type": "display_data"
    },
    {
     "data": {
      "image/png": "[encoded data removed]",
      "text/plain": [
       "<Figure size 640x480 with 1 Axes>"
      ]
     },
     "metadata": {},
     "output_type": "display_data"
    }
   ],
   "source": [
    "import pandas as pd\n",
    "import matplotlib.pyplot as plt\n",
    "\n",
    "df = pd.read_csv('example-data.csv')\n",
    "x = df[\"Calories\"].mean()\n",
    "df[\"Calories\"].fillna(x, inplace=True)\n",
    "df.plot()\n",
    "df.plot(kind = 'scatter', x = 'Duration', y = 'Calories')\n",
    "plt.show()\n",
    "plt.show()"
   ]
  },
  {
   "cell_type": "code",
   "execution_count": 123,
   "metadata": {},
   "outputs": [
    {
     "data": {
      "text/plain": [
       "[]"
      ]
     },
     "execution_count": 123,
     "metadata": {},
     "output_type": "execute_result"
    },
    {
     "data": {
      "image/png": "[encoded data removed]",
      "text/plain": [
       "<Figure size 640x480 with 1 Axes>"
      ]
     },
     "metadata": {},
     "output_type": "display_data"
    }
   ],
   "source": [
    "# Histogram Plot\n",
    "df[\"Calories\"].plot(kind=\"box\")\n",
    "\n",
    "plt.plot()\n"
   ]
  },
  {
   "cell_type": "code",
   "execution_count": 124,
   "metadata": {},
   "outputs": [
    {
     "data": {
      "text/plain": [
       "<Axes: ylabel='Frequency'>"
      ]
     },
     "execution_count": 124,
     "metadata": {},
     "output_type": "execute_result"
    },
    {
     "data": {
      "image/png": "[encoded data removed]",
      "text/plain": [
       "<Figure size 640x480 with 1 Axes>"
      ]
     },
     "metadata": {},
     "output_type": "display_data"
    }
   ],
   "source": [
    "df[\"Calories\"].plot(kind=\"hist\")"
   ]
  },
  {
   "attachments": {},
   "cell_type": "markdown",
   "metadata": {},
   "source": [
    "> positive skewed for `calories`"
   ]
  }
 ],
 "metadata": {
  "kernelspec": {
   "display_name": "Python 3",
   "language": "python",
   "name": "python3"
  },
  "language_info": {
   "codemirror_mode": {
    "name": "ipython",
    "version": 3
   },
   "file_extension": ".py",
   "mimetype": "text/x-python",
   "name": "python",
   "nbconvert_exporter": "python",
   "pygments_lexer": "ipython3",
   "version": "3.11.2"
  },
  "orig_nbformat": 4
 },
 "nbformat": 4,
 "nbformat_minor": 2
}
