{
 "cells": [
  {
   "attachments": {},
   "cell_type": "markdown",
   "metadata": {},
   "source": [
    "# Lab02"
   ]
  },
  {
   "attachments": {},
   "cell_type": "markdown",
   "metadata": {},
   "source": [
    "## WAP to determine whether a person is eligible to cast vote or not. If he /she was note eligible display how many years left to be eligible."
   ]
  },
  {
   "cell_type": "code",
   "execution_count": 2,
   "metadata": {},
   "outputs": [
    {
     "name": "stdout",
     "output_type": "stream",
     "text": [
      "You are eligible\n"
     ]
    }
   ],
   "source": [
    "age = int(input(\"Enter your age\"))\n",
    "if age < 18:\n",
    "  print(f\"No of year left: {18-age}\")\n",
    "else:\n",
    "  print(\"You are eligible\")"
   ]
  },
  {
   "attachments": {},
   "cell_type": "markdown",
   "metadata": {},
   "source": [
    "## WAP to enter any character. If entered character is in lowercase then convert it into uppercase and vice-versa."
   ]
  },
  {
   "cell_type": "code",
   "execution_count": 7,
   "metadata": {},
   "outputs": [
    {
     "name": "stdout",
     "output_type": "stream",
     "text": [
      "d -> D\n",
      "c -> C\n",
      "d -> D\n",
      "s -> S\n",
      "D -> d\n",
      "C -> c\n",
      "H -> h\n",
      "J -> j\n",
      "B -> b\n",
      "S -> s\n",
      "H -> h\n"
     ]
    }
   ],
   "source": [
    "def isLetter(letter)-> bool:\n",
    "  if len(letter) == 0 or len(letter) > 1:\n",
    "    return False\n",
    "  if (letter >= 'a' and letter <= 'z') or (letter >= 'A' and letter <= 'Z'):\n",
    "    return True\n",
    "  else:\n",
    "    return False\n",
    "\n",
    "str = input(\"enter string\")\n",
    "\n",
    "for i in range(0, len(str)):\n",
    "  if isLetter(str[i]):\n",
    "    if str[i].isupper():\n",
    "      print(f\"{str[i]} -> {str[i].lower()}\")\n",
    "    else:\n",
    "      print(f\"{str[i]} -> {str[i].upper()}\")\n",
    "  else:\n",
    "    print(\"Internal err\")"
   ]
  },
  {
   "attachments": {},
   "cell_type": "markdown",
   "metadata": {},
   "source": [
    "## An organization decides to give bonus to all its employee. Bonus of 5 % is given to male worker and 10 % to female worker. WAP to enter salary of an employee and gender of the employee. If the salary of person is less than 20000 then the employ gets an extra 5% bonus on salary. Calculate the bonus that has to be given to the employee and display the salary that employee will get."
   ]
  },
  {
   "cell_type": "code",
   "execution_count": 9,
   "metadata": {},
   "outputs": [
    {
     "name": "stdout",
     "output_type": "stream",
     "text": [
      "Bonus to receive $1000.0\n",
      "Salary to receive $11000.0\n"
     ]
    }
   ],
   "source": [
    "salary = float(input(\"enter the salary\"))\n",
    "gender = input(\"enter the gender\")\n",
    "\n",
    "bonus: float = 0.0\n",
    "if gender == \"M\":\n",
    "  bonus = 0.05*salary\n",
    "else:\n",
    "  bonus = 0.1*salary\n",
    "\n",
    "if salary < 20_000:\n",
    "  bonus += 0.05*salary\n",
    "\n",
    "print(f\"Bonus to receive ${bonus}\")\n",
    "print(f\"Salary to receive ${salary+bonus}\")"
   ]
  },
  {
   "attachments": {},
   "cell_type": "markdown",
   "metadata": {},
   "source": [
    "## WAP to find a given year is leap year."
   ]
  },
  {
   "cell_type": "code",
   "execution_count": 12,
   "metadata": {},
   "outputs": [
    {
     "name": "stdout",
     "output_type": "stream",
     "text": [
      "leap year!\n"
     ]
    }
   ],
   "source": [
    "year = int(input(\"Enter the year\"))\n",
    "if year % 400 == 0 or (year % 100 != 0 and year % 4 == 0):\n",
    "  print(\"leap year!\")\n",
    "else:\n",
    "  print(\"normal year\")"
   ]
  },
  {
   "attachments": {},
   "cell_type": "markdown",
   "metadata": {},
   "source": [
    "## WAP to calculate tax of an employ as per the present income tax norms."
   ]
  },
  {
   "cell_type": "code",
   "execution_count": 14,
   "metadata": {},
   "outputs": [
    {
     "name": "stdout",
     "output_type": "stream",
     "text": [
      "Tax to be payed: 150000.0\n"
     ]
    }
   ],
   "source": [
    "salary = float(input(\"Enter your salary\"))\n",
    "\n",
    "tax: float = 0.0\n",
    "\n",
    "if salary > 15_00_000:\n",
    "  tax = salary*0.3\n",
    "elif salary > 12_50_000:\n",
    "  tax = salary*0.25\n",
    "elif salary > 10_00_000:\n",
    "  tax = salary*0.2\n",
    "elif salary > 7_50_000:\n",
    "  tax = salary*0.15\n",
    "elif salary > 5_00_000:\n",
    "  tax = salary*0.1\n",
    "else:\n",
    "  tax = 0.0\n",
    "print(f\"Tax to be payed: {tax}\")"
   ]
  },
  {
   "attachments": {},
   "cell_type": "markdown",
   "metadata": {},
   "source": [
    "## WAP to find the grade of a students. Put conditions as applied in your university."
   ]
  },
  {
   "cell_type": "code",
   "execution_count": 15,
   "metadata": {},
   "outputs": [
    {
     "name": "stdout",
     "output_type": "stream",
     "text": [
      "Grade : A\n"
     ]
    }
   ],
   "source": [
    "marks = int(input(\"Enter the marks\"))\n",
    "grade = \"\"\n",
    "if marks >= 90:\n",
    "  grade = \"O\"\n",
    "elif marks >= 80:\n",
    "  grade = \"E\"\n",
    "elif marks >= 70:\n",
    "  grade = \"A\"\n",
    "elif marks >= 60:\n",
    "  grade = \"B\"\n",
    "elif marks >= 50:\n",
    "  grade = \"C\"\n",
    "elif marks >= 40:\n",
    "  grade = \"D\"\n",
    "else:\n",
    "  grade = \"N/A\"\n",
    "print(f\"Grade : {grade}\")"
   ]
  },
  {
   "attachments": {},
   "cell_type": "markdown",
   "metadata": {},
   "source": [
    "## WAP to read numbers till _1 is encountered. Find the positive and negative numbers entered by user."
   ]
  },
  {
   "cell_type": "code",
   "execution_count": 17,
   "metadata": {},
   "outputs": [
    {
     "name": "stdout",
     "output_type": "stream",
     "text": [
      "No of positive 2\n",
      "No of negative 3\n"
     ]
    }
   ],
   "source": [
    "noOfPositive = 0\n",
    "noOfNegative = 0\n",
    "\n",
    "while (True):\n",
    "  choice = int(input(\"Enter 1 to exit and anyother to continue...\"))\n",
    "  if choice == 1:\n",
    "    break\n",
    "  if choice >= 0:\n",
    "    noOfPositive += 1\n",
    "  else:\n",
    "    noOfNegative += 1\n",
    "print(f\"No of positive {noOfPositive}\")\n",
    "print(f\"No of negative {noOfNegative}\")"
   ]
  },
  {
   "attachments": {},
   "cell_type": "markdown",
   "metadata": {},
   "source": [
    "## WAP to find whether the given number is an Amstrong number or not."
   ]
  },
  {
   "cell_type": "code",
   "execution_count": 23,
   "metadata": {},
   "outputs": [
    {
     "name": "stdout",
     "output_type": "stream",
     "text": [
      "Not amstring number\n"
     ]
    }
   ],
   "source": [
    "import math\n",
    "\n",
    "def isAmstrong(number: int):\n",
    "  temp = number\n",
    "  count = 0\n",
    "  while temp > 0:\n",
    "    count+=1\n",
    "    temp //= 10\n",
    "  newN = 0\n",
    "  org = number\n",
    "  while number > 0:\n",
    "    newN += math.pow(number%10, count)\n",
    "    number //= 10\n",
    "  if newN == org:\n",
    "    print(\"Amstrong number\")\n",
    "  else:\n",
    "    print(\"Not amstring number\")\n",
    "\n",
    "isAmstrong(int(input(\"Enter the number\")))\n"
   ]
  },
  {
   "attachments": {},
   "cell_type": "markdown",
   "metadata": {},
   "source": [
    "## WAP to enter binary number and convert that to decimal."
   ]
  },
  {
   "cell_type": "code",
   "execution_count": 25,
   "metadata": {},
   "outputs": [
    {
     "name": "stdout",
     "output_type": "stream",
     "text": [
      "15.0\n"
     ]
    }
   ],
   "source": [
    "binary = input(\"Enter the binary number\")\n",
    "\n",
    "c = 0\n",
    "no = 0\n",
    "\n",
    "for i in reversed(range(0, len(binary))):\n",
    "  if binary[i] == \"1\":\n",
    "    no += math.pow(2, c)\n",
    "  c+=1\n",
    "\n",
    "print(no)"
   ]
  },
  {
   "attachments": {},
   "cell_type": "markdown",
   "metadata": {},
   "source": [
    "## WAP to print a number in reverse order."
   ]
  },
  {
   "cell_type": "code",
   "execution_count": 26,
   "metadata": {},
   "outputs": [
    {
     "name": "stdout",
     "output_type": "stream",
     "text": [
      "4321"
     ]
    }
   ],
   "source": [
    "def number(n: int):\n",
    "  if n == 0:\n",
    "    return\n",
    "  print(n%10, end='')\n",
    "  number(n//10)\n",
    "\n",
    "no = int(input(\"Input the number\"))\n",
    "number(no)"
   ]
  },
  {
   "attachments": {},
   "cell_type": "markdown",
   "metadata": {},
   "source": [
    "## WAP to classify a given number is prime or no composite."
   ]
  },
  {
   "cell_type": "code",
   "execution_count": 30,
   "metadata": {},
   "outputs": [
    {
     "name": "stdout",
     "output_type": "stream",
     "text": [
      "IsPrime : False\n"
     ]
    }
   ],
   "source": [
    "def isPrime(no: int)-> bool:\n",
    "  for i in range(2, no):\n",
    "    if no % i == 0:\n",
    "      return False\n",
    "  return True\n",
    "no = int(input(\"Enter the no\"))\n",
    "print(f\"IsPrime : {isPrime(no)}\")"
   ]
  },
  {
   "attachments": {},
   "cell_type": "markdown",
   "metadata": {},
   "source": [
    "## WAP to calculate sum of a series"
   ]
  },
  {
   "cell_type": "code",
   "execution_count": 32,
   "metadata": {},
   "outputs": [
    {
     "name": "stdout",
     "output_type": "stream",
     "text": [
      "Ans: 55.0\n"
     ]
    }
   ],
   "source": [
    "n = int(input(\"Enter the number\"))\n",
    "\n",
    "ans = n * (n+1) /2 \n",
    "print(f\"Ans: {ans}\")"
   ]
  },
  {
   "attachments": {},
   "cell_type": "markdown",
   "metadata": {},
   "source": [
    "## WAP to to calculate value of an investment. Input the initial investments and interest rate."
   ]
  },
  {
   "cell_type": "code",
   "execution_count": 34,
   "metadata": {},
   "outputs": [
    {
     "name": "stdout",
     "output_type": "stream",
     "text": [
      "Amount: 12450.0\n"
     ]
    }
   ],
   "source": [
    "p = float(input(\"Enter the principla amount\"))\n",
    "rate = float(input(\"Enter the rate of interest\"))\n",
    "time = float(input(\"Enter the time in years\"))\n",
    "\n",
    "ii = p*rate*time / 100\n",
    "\n",
    "print(f\"Amount: {p+ii}\")"
   ]
  },
  {
   "attachments": {},
   "cell_type": "markdown",
   "metadata": {},
   "source": [
    "## WAP to generate calendar of a month the start day and the number of days in that month."
   ]
  },
  {
   "cell_type": "code",
   "execution_count": 40,
   "metadata": {},
   "outputs": [
    {
     "name": "stdout",
     "output_type": "stream",
     "text": [
      "Sun\tMon\tTue\tWed\tThu\tFri\tSat\n",
      " \t \t1\t2\t3\t4\t5\t\n",
      "\n",
      "6\t7\t8\t9\t10\t11\t12\t\n",
      "\n",
      "13\t14\t15\t16\t17\t18\t19\t\n",
      "\n",
      "20\t21\t22\t23\t24\t25\t26\t\n",
      "\n",
      "27\t28\t29\t"
     ]
    }
   ],
   "source": [
    "print(\"Sun\\tMon\\tTue\\tWed\\tThu\\tFri\\tSat\")\n",
    "# 0 for Sun \n",
    "startDay = int(input(\"enter 0 to 6 starts with sun\"))\n",
    "noOfDays = int(input(\"Enter the no of days\"))\n",
    "day = 1\n",
    "weekDay = -1\n",
    "isStarted = False\n",
    "while day <= noOfDays:\n",
    "  if not isStarted:\n",
    "    for i in range(0, 7):\n",
    "      if startDay == i:\n",
    "        isStarted= True\n",
    "        print(day, end=\"\\t\")\n",
    "        day += 1\n",
    "        weekDay = i\n",
    "        break\n",
    "      else:\n",
    "        print(\" \", end=\"\\t\")\n",
    "  else:\n",
    "    # if weekDay == 7:\n",
    "    #   print(\"\\n\")\n",
    "    #   continue\n",
    "    # weekDay+=1\n",
    "    weekDay = (weekDay + 1)%7\n",
    "    if weekDay == 0:\n",
    "      print(\"\\n\")\n",
    "    print(day, end=\"\\t\")\n",
    "    day += 1"
   ]
  },
  {
   "attachments": {},
   "cell_type": "markdown",
   "metadata": {},
   "source": [
    "## Print patterns"
   ]
  },
  {
   "cell_type": "code",
   "execution_count": 43,
   "metadata": {},
   "outputs": [
    {
     "name": "stdout",
     "output_type": "stream",
     "text": [
      "$ \n",
      "\n",
      "$ $ \n",
      "\n",
      "$ $ $ \n",
      "\n",
      "$ $ $ $ \n",
      "\n",
      "$ $ $ $ $ \n",
      "\n"
     ]
    }
   ],
   "source": [
    "for i in range(0, 5):\n",
    "  for j in range(0, i+1):\n",
    "    print(\"$\", end=\" \")\n",
    "  print(\"\\n\")"
   ]
  }
 ],
 "metadata": {
  "kernelspec": {
   "display_name": "base",
   "language": "python",
   "name": "python3"
  },
  "language_info": {
   "codemirror_mode": {
    "name": "ipython",
    "version": 3
   },
   "file_extension": ".py",
   "mimetype": "text/x-python",
   "name": "python",
   "nbconvert_exporter": "python",
   "pygments_lexer": "ipython3",
   "version": "3.9.13 (main, Aug 25 2022, 23:26:10) \n[GCC 11.2.0]"
  },
  "orig_nbformat": 4,
  "vscode": {
   "interpreter": {
    "hash": "f3f09461ad29ca90760faa364cf9be1da22aa929b778d775e6c87c9f9fc98976"
   }
  }
 },
 "nbformat": 4,
 "nbformat_minor": 2
}
