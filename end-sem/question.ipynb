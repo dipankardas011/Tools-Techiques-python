{
 "cells": [
  {
   "cell_type": "code",
   "execution_count": 2,
   "metadata": {
    "collapsed": true,
    "pycharm": {
     "is_executing": true
    }
   },
   "outputs": [
    {
     "name": "stdout",
     "output_type": "stream",
     "text": [
      "2481632"
     ]
    }
   ],
   "source": [
    "# Q1\n",
    "def power(n):\n",
    "    base = 2\n",
    "    if n <= 1:\n",
    "        print(1)\n",
    "        return\n",
    "    for _ in range(1,n+1):\n",
    "        print(base,end='')\n",
    "        base *= 2\n",
    "power(5)"
   ]
  },
  {
   "cell_type": "code",
   "execution_count": 5,
   "metadata": {},
   "outputs": [
    {
     "name": "stdout",
     "output_type": "stream",
     "text": [
      "4\n"
     ]
    }
   ],
   "source": [
    "# Q2\n",
    "def factorial(n):\n",
    "    if n <= 1:\n",
    "        return 1\n",
    "    return n*factorial(n-1)\n",
    "\n",
    "def noOfZeros(num):\n",
    "    fact = factorial(num)\n",
    "    count = 0\n",
    "    # print(f\"factorial {fact}\")\n",
    "    while fact > 0:\n",
    "        d = fact % 10\n",
    "        if d != 0:\n",
    "            break\n",
    "        count+=1\n",
    "        fact //= 10\n",
    "    return count\n",
    "\n",
    "print(noOfZeros(20))"
   ]
  },
  {
   "cell_type": "code",
   "execution_count": 9,
   "metadata": {},
   "outputs": [
    {
     "name": "stdout",
     "output_type": "stream",
     "text": [
      "True\n",
      "False\n"
     ]
    }
   ],
   "source": [
    "## Q3\n",
    "def common(list1, list2):\n",
    "    for i in list1:\n",
    "        for j in list2:\n",
    "            if i == j:\n",
    "                return True\n",
    "    return False\n",
    "\n",
    "print(common([1,2,3,4],[5,7,1,3]))\n",
    "print(common([],[]))\n"
   ]
  },
  {
   "cell_type": "code",
   "execution_count": 19,
   "metadata": {},
   "outputs": [
    {
     "name": "stdout",
     "output_type": "stream",
     "text": [
      "['Green', 'White', 'Black']\n"
     ]
    }
   ],
   "source": [
    "## Q4\n",
    "def removeAtPos(list, pos):\n",
    "    return list[:pos]+list[pos+1:]\n",
    "def remove(list):\n",
    "    list = removeAtPos(list,0)\n",
    "    list = removeAtPos(list,3)\n",
    "    list = removeAtPos(list,3)\n",
    "    print(list)\n",
    "a = ['Red','Green', 'White','Black','Pink','Yelllow']\n",
    "remove(a)"
   ]
  },
  {
   "cell_type": "code",
   "execution_count": 20,
   "metadata": {},
   "outputs": [
    {
     "name": "stdout",
     "output_type": "stream",
     "text": [
      "123\n",
      "Dipankar\n",
      "eq\n"
     ]
    }
   ],
   "source": [
    "## Q5\n",
    "def studentData(student_id=0, student_name=\"\", student_class=\"\"):\n",
    "    if student_id != 0:\n",
    "        print(student_id)\n",
    "    if len(student_name) != 0:\n",
    "        print(student_name)\n",
    "    if len(student_class) != 0:\n",
    "        print(student_class)\n",
    "studentData(student_id=123)\n",
    "studentData(student_name=\"Dipankar\", student_class=\"eq\")"
   ]
  },
  {
   "cell_type": "code",
   "execution_count": 24,
   "metadata": {},
   "outputs": [
    {
     "data": {
      "text/plain": [
       "array([37, 36, 35, 34, 33, 32, 31, 30, 29, 28, 27, 26, 25, 24, 23, 22, 21,\n",
       "       20, 19, 18, 17, 16, 15, 14, 13, 12])"
      ]
     },
     "execution_count": 24,
     "metadata": {},
     "output_type": "execute_result"
    }
   ],
   "source": [
    "## Q7\n",
    "import numpy as np\n",
    "def reverse(nparr):\n",
    "    list = nparr.tolist()\n",
    "    list = list[::-1]\n",
    "    return np.array(list)\n",
    "\n",
    "reverse(np.array([12,13,14,15,16,17,18,19,20,21,22,23,24,25,26,27,28,29,30,31,32,33,34,35,36,37]))"
   ]
  },
  {
   "cell_type": "code",
   "execution_count": 26,
   "metadata": {},
   "outputs": [
    {
     "name": "stdout",
     "output_type": "stream",
     "text": [
      "[<__main__.BigmartCompany object at 0x7f40780ab090>, <__main__.BigmartCompany object at 0x7f408022bf90>]\n",
      "Amount in one day 27.5\n"
     ]
    }
   ],
   "source": [
    "## Q8\n",
    "class BigmartCompany:\n",
    "    def __init__(self, sno,name, amt):\n",
    "        self.serial_number = sno\n",
    "        self.name =name\n",
    "        self.amount_spend = amt\n",
    "    def amountSpent(self):\n",
    "        return self.amount_spend\n",
    "def Display(cust: list[BigmartCompany])->float:\n",
    "    amt = 0.0\n",
    "    for i in cust:\n",
    "        amt += i.amountSpent()\n",
    "    return amt\n",
    "\n",
    "n = int(input(\"Enter the number of customers\"))\n",
    "customers: list[BigmartCompany] = []\n",
    "for i in range(n):\n",
    "    temp= BigmartCompany((int(input(\"Enter the serial no\"))),\n",
    "                        (input(\"Enter the name\")),\n",
    "                        (float(input(\"Enter the amt\"))))\n",
    "    customers.append(temp)\n",
    "print(customers)\n",
    "print(f\"Amount in one day {Display(customers)}\")"
   ]
  }
 ],
 "metadata": {
  "kernelspec": {
   "display_name": "Python 3",
   "language": "python",
   "name": "python3"
  },
  "language_info": {
   "codemirror_mode": {
    "name": "ipython",
    "version": 3
   },
   "file_extension": ".py",
   "mimetype": "text/x-python",
   "name": "python",
   "nbconvert_exporter": "python",
   "pygments_lexer": "ipython3",
   "version": "3.11.2"
  }
 },
 "nbformat": 4,
 "nbformat_minor": 0
}
